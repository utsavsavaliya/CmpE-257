{
 "cells": [
  {
   "cell_type": "markdown",
   "id": "984f967f",
   "metadata": {},
   "source": [
    "# Decision Trees and Random Forests"
   ]
  },
  {
   "cell_type": "markdown",
   "id": "b0397d56",
   "metadata": {
    "tags": []
   },
   "source": [
    "## 1. What is a decision tree?"
   ]
  },
  {
   "cell_type": "markdown",
   "id": "7e5aae2b-60c5-4edb-b72d-1f615ccd7b34",
   "metadata": {},
   "source": [
    "Decision Trees (DTs) are a non-parametric supervised learning method used for classification and regression.\n",
    "The goal is to create a model that predicts the value of a target variable by learning simple decision rules inferred \n",
    "from the data features. \n",
    "A tree can be seen as a piecewise constant approximation. "
   ]
  },
  {
   "cell_type": "markdown",
   "id": "205318ab",
   "metadata": {},
   "source": [
    "## 2. What are the advantages and disadvantages of a decision tree?"
   ]
  },
  {
   "cell_type": "code",
   "execution_count": null,
   "id": "3e20805f-dd94-4eec-b507-5f3095deeb7a",
   "metadata": {},
   "outputs": [],
   "source": [
    "Disadvantage:\n",
    "1.)A small change in the data can cause a large change in the structure of the decision tree causing instability.\n",
    "2.)For a Decision tree sometimes calculation can go far more complex compared to other algorithms.\n",
    "3.)Decision tree often involves higher time to train the model.\n",
    "4.)Decision tree training is relatively expensive as the complexity and time has taken are more.\n",
    "5.)The Decision Tree algorithm is inadequate for applying regression and predicting continuous values.\n",
    "\n",
    "\n",
    "Advantages:\n",
    "1.)Compared to other algorithms decision trees requires less effort for data preparation during pre-processing.\n",
    "2.)A decision tree does not require normalization of data.\n",
    "3.)A decision tree does not require scaling of data as well.\n",
    "4.)Missing values in the data also do NOT affect the process of building a decision tree to any considerable extent.\n",
    "5.)A Decision tree model is very intuitive and easy to explain to technical teams as well as stakeholders."
   ]
  },
  {
   "cell_type": "markdown",
   "id": "ec27050f",
   "metadata": {},
   "source": [
    "## 3. Explain pruning"
   ]
  },
  {
   "cell_type": "markdown",
   "id": "8750d087-5a0b-48ed-a904-f18a3fe92083",
   "metadata": {},
   "source": [
    "Pruning is a data compression technique in machine learning and search algorithms that reduces the size of\n",
    "decision trees by removing sections of the tree that are non-critical and \n",
    "redundant to classify instances."
   ]
  },
  {
   "cell_type": "markdown",
   "id": "ee8c590c",
   "metadata": {},
   "source": [
    "## 4. What is ensembling?"
   ]
  },
  {
   "cell_type": "markdown",
   "id": "9b1b3a70-2860-4087-8f24-01d0a8f81ab4",
   "metadata": {},
   "source": [
    "Ensembles are predictive models that combine predictions from two or more other models. Ensemble learning methods \n",
    "are popular and the go-to technique when the best performance on a predictive modeling project \n",
    "is the most important outcome."
   ]
  },
  {
   "cell_type": "markdown",
   "id": "34518fd7",
   "metadata": {},
   "source": [
    "## 5. Explain bagging"
   ]
  },
  {
   "cell_type": "markdown",
   "id": "e1db22da-0a1d-4989-9c06-02b89a692b1d",
   "metadata": {},
   "source": [
    "Bagging, also known as bootstrap aggregation, is the ensemble learning method that is commonly used to reduce variance within a \n",
    "noisy dataset. In bagging, a random sample of data in a training set is selected with replacement—meaning that the individual data \n",
    "points can be chosen more than once. After several data samples are generated, these weak models are then trained independently, \n",
    "and depending on the type of task—regression or classification,for example—the average or majority of those predictions yield a more accurate estimate"
   ]
  },
  {
   "cell_type": "code",
   "execution_count": null,
   "id": "2566b216-0253-42d8-a868-6c8e62d30e80",
   "metadata": {},
   "outputs": [],
   "source": []
  },
  {
   "cell_type": "markdown",
   "id": "0f68b2ac",
   "metadata": {},
   "source": [
    "## 6. What are random forests?"
   ]
  },
  {
   "cell_type": "markdown",
   "id": "e15b28ce-ed03-456a-a8e1-9cadb8d49aec",
   "metadata": {},
   "source": [
    "The random forest is a classification algorithm consisting of many decisions trees. It uses bagging and \n",
    "feature randomness when building each individual tree to try to create an uncorrelated forest of trees \n",
    "whose prediction by committee is more accurate than that of any individual tree."
   ]
  },
  {
   "cell_type": "markdown",
   "id": "524a55d8",
   "metadata": {},
   "source": [
    "## 7. Classify the iris dataset using decision trees"
   ]
  },
  {
   "cell_type": "code",
   "execution_count": 129,
   "id": "d46bfb8c-dd53-43dc-b17c-a5b2002457f0",
   "metadata": {},
   "outputs": [
    {
     "data": {
      "text/plain": [
       "array(['Setosa', 'Versicolour', 'Virginica'], dtype=object)"
      ]
     },
     "execution_count": 129,
     "metadata": {},
     "output_type": "execute_result"
    }
   ],
   "source": [
    "# importing libraries\n",
    "import pandas as pd\n",
    "from sklearn.tree import DecisionTreeClassifier \n",
    "from sklearn.model_selection import train_test_split \n",
    "from sklearn.metrics import confusion_matrix \n",
    "from sklearn.datasets import load_iris, load_boston\n",
    "from sklearn import tree\n",
    "from sklearn.ensemble import RandomForestClassifier\n",
    "import matplotlib.pyplot as plt\n",
    "from sklearn.metrics import classification_report\n",
    "\n",
    "# Loading the dataset\n",
    "iris = load_iris()\n",
    "Iris1=pd.DataFrame(data=iris.data)\n",
    "Iris2=pd.DataFrame(data=iris.target)\n",
    "Iris2=Iris2.replace(0,'Setosa')\n",
    "Iris2=Iris2.replace(1,'Versicolour')\n",
    "Iris2=Iris2.replace(2,'Virginica')\n",
    "Iris2[0].unique()"
   ]
  },
  {
   "cell_type": "code",
   "execution_count": 130,
   "id": "cc677dd3-8596-4471-8fd3-533e19a57034",
   "metadata": {},
   "outputs": [],
   "source": [
    "# Training a decision tree\n",
    "X_train, X_test, y_train, y_test = train_test_split(Iris1, Iris2, test_size = 0.3, random_state = 1)\n",
    "clf = DecisionTreeClassifier(criterion='gini',max_depth = 3,min_samples_split=2, min_samples_leaf=1,random_state=10)\n",
    "clf = clf.fit(X_train,y_train)  "
   ]
  },
  {
   "cell_type": "code",
   "execution_count": 131,
   "id": "42581f73-29e4-4957-a353-70dde71144bf",
   "metadata": {},
   "outputs": [
    {
     "data": {
      "text/plain": [
       "array([[14,  0,  0],\n",
       "       [ 0, 17,  1],\n",
       "       [ 0,  1, 12]], dtype=int64)"
      ]
     },
     "execution_count": 131,
     "metadata": {},
     "output_type": "execute_result"
    }
   ],
   "source": [
    "y_test_pred = clf.predict(X_test)\n",
    "confusion_matrix(y_test, y_test_pred)"
   ]
  },
  {
   "cell_type": "code",
   "execution_count": 132,
   "id": "ec450acc-28a0-4e00-80ef-6b1f5326a8e3",
   "metadata": {},
   "outputs": [
    {
     "data": {
      "text/plain": [
       "array([0.        , 0.        , 0.06600367, 0.93399633])"
      ]
     },
     "execution_count": 132,
     "metadata": {},
     "output_type": "execute_result"
    }
   ],
   "source": [
    "clf.feature_importances_"
   ]
  },
  {
   "cell_type": "code",
   "execution_count": 133,
   "id": "4c5ad20c-fc7d-466c-aae0-947494c51945",
   "metadata": {},
   "outputs": [
    {
     "data": {
      "image/png": "[encoded data removed]",
      "text/plain": [
       "<Figure size 432x288 with 1 Axes>"
      ]
     },
     "metadata": {
      "needs_background": "light"
     },
     "output_type": "display_data"
    }
   ],
   "source": [
    "# Horizontal Bar Plot\n",
    "plt.bar(X_train.columns.tolist(), clf.feature_importances_)\n",
    " \n",
    "# Show Plot\n",
    "plt.show()"
   ]
  },
  {
   "cell_type": "code",
   "execution_count": 134,
   "id": "20994f38-7787-4f41-8003-eb163bd9e4dc",
   "metadata": {},
   "outputs": [
    {
     "data": {
      "image/png": "[encoded data removed]",
      "text/plain": [
       "<Figure size 432x288 with 1 Axes>"
      ]
     },
     "metadata": {
      "needs_background": "light"
     },
     "output_type": "display_data"
    }
   ],
   "source": [
    "import seaborn as sns\n",
    "# who v/s fare barplot\n",
    "sns.barplot(x = X_train.columns.tolist(),\n",
    "            y = clf.feature_importances_.tolist())\n",
    " \n",
    "# Show the plot\n",
    "plt.show()"
   ]
  },
  {
   "cell_type": "code",
   "execution_count": 135,
   "id": "a25ebf8c-1b2f-48d8-816c-3eba16569c4d",
   "metadata": {},
   "outputs": [
    {
     "data": {
      "text/plain": [
       "array([0.        , 0.        , 0.06600367, 0.93399633])"
      ]
     },
     "execution_count": 135,
     "metadata": {},
     "output_type": "execute_result"
    }
   ],
   "source": [
    "clf.feature_importances_"
   ]
  },
  {
   "cell_type": "code",
   "execution_count": 136,
   "id": "c2789525-7b33-4c08-a8f8-eb79de7b80bb",
   "metadata": {},
   "outputs": [
    {
     "name": "stdout",
     "output_type": "stream",
     "text": [
      "              precision    recall  f1-score   support\n",
      "\n",
      "      Setosa       1.00      1.00      1.00        14\n",
      " Versicolour       0.94      0.94      0.94        18\n",
      "   Virginica       0.92      0.92      0.92        13\n",
      "\n",
      "    accuracy                           0.96        45\n",
      "   macro avg       0.96      0.96      0.96        45\n",
      "weighted avg       0.96      0.96      0.96        45\n",
      "\n"
     ]
    }
   ],
   "source": [
    "print(classification_report(y_test,y_test_pred))"
   ]
  },
  {
   "cell_type": "markdown",
   "id": "ab40580b",
   "metadata": {},
   "source": [
    "## 8. Tune the hyper parameters and comment the meaning of each hyper parameter you have tuned"
   ]
  },
  {
   "cell_type": "code",
   "execution_count": null,
   "id": "b9d9b94a-c65f-4a1a-a326-7108c01a8bb6",
   "metadata": {},
   "outputs": [],
   "source": [
    "1.)criterion=gini, This is to measure the quality of a split in the decision tree. gini for the Gini impurity and entropy for the information gain\n",
    "2.)max_depth=6, Here the depth of the tree will be upto 6 only. If not specified than till nodes are not pure it is going to split\n",
    "3.)min_samples_split=2,The minimum number of smaples needed to split an internal node.Needed to avoid overfitting\n",
    "4.)min_samples_leaf=1,The minimum number of samples required to be at a leaf node. Needed to avoid overfitting\n",
    "5.)random_state=10,  Controls the randomness of the estimator. The features are always randomly permuted at each split, even if     \n",
    "   splitter is set to \"best\". When max_features < n_features, the algorithm will select max_features at random at each split before \n",
    "   finding the best split among them\n"
   ]
  },
  {
   "cell_type": "code",
   "execution_count": 137,
   "id": "a23034e8-0ad9-4d07-88d7-f881d36619d8",
   "metadata": {},
   "outputs": [],
   "source": [
    "#X_train.columns.tolist()\n",
    "#clf.feature_importances_.tolist()"
   ]
  },
  {
   "cell_type": "markdown",
   "id": "f92c4981",
   "metadata": {},
   "source": [
    "## 9. Plot the tree and feature importances"
   ]
  },
  {
   "cell_type": "code",
   "execution_count": 138,
   "id": "55586462-4f9c-4fec-80c0-cc1ada9a5a57",
   "metadata": {
    "jupyter": {
     "source_hidden": true
    },
    "tags": []
   },
   "outputs": [
    {
     "data": {
      "image/png": "[encoded data removed]",
      "text/plain": [
       "<Figure size 432x288 with 1 Axes>"
      ]
     },
     "metadata": {
      "needs_background": "light"
     },
     "output_type": "display_data"
    }
   ],
   "source": [
    "# Plotting the tree\n",
    "tree.plot_tree(clf)\n",
    "#plot=tree.export_graphviz(clf,out_file=None)\n",
    "#graph=graphviz.Source(plot)\n",
    "#graph\n",
    "plt.show()"
   ]
  },
  {
   "cell_type": "code",
   "execution_count": 139,
   "id": "9e49e8bc-75d1-440d-bcfb-676db3395cb3",
   "metadata": {},
   "outputs": [
    {
     "data": {
      "image/png": "[encoded data removed]",
      "text/plain": [
       "<Figure size 432x288 with 1 Axes>"
      ]
     },
     "metadata": {
      "needs_background": "light"
     },
     "output_type": "display_data"
    }
   ],
   "source": [
    "sns.barplot(x = X_train.columns.tolist(),\n",
    "            y = clf.feature_importances_.tolist())\n",
    " \n",
    "# Show the plot\n",
    "plt.show()"
   ]
  },
  {
   "cell_type": "markdown",
   "id": "db5b0581",
   "metadata": {},
   "source": [
    "## 10. Repeat questions 7 and 8 using random forests"
   ]
  },
  {
   "cell_type": "code",
   "execution_count": 140,
   "id": "0752a6ee-6d1c-4deb-a1ec-2a19353e7533",
   "metadata": {},
   "outputs": [
    {
     "name": "stderr",
     "output_type": "stream",
     "text": [
      "C:\\Users\\Checkout\\AppData\\Local\\Temp/ipykernel_11836/4151876159.py:3: DataConversionWarning: A column-vector y was passed when a 1d array was expected. Please change the shape of y to (n_samples,), for example using ravel().\n",
      "  rr.fit(X_train, y_train)\n"
     ]
    }
   ],
   "source": [
    "# training the model Random Forest\n",
    "rr = RandomForestClassifier(n_estimators=10,max_depth = 10, random_state = 100,criterion='gini', min_samples_split=2, min_samples_leaf=1, min_weight_fraction_leaf=0.0)\n",
    "rr.fit(X_train, y_train)\n",
    "y_train_pred = rr.predict(X_train)"
   ]
  },
  {
   "cell_type": "code",
   "execution_count": 141,
   "id": "4a70efb0-6ef7-4f62-9759-3abb7b94d1e2",
   "metadata": {},
   "outputs": [
    {
     "name": "stdout",
     "output_type": "stream",
     "text": [
      "              precision    recall  f1-score   support\n",
      "\n",
      "      Setosa       1.00      1.00      1.00        36\n",
      " Versicolour       1.00      1.00      1.00        32\n",
      "   Virginica       1.00      1.00      1.00        37\n",
      "\n",
      "    accuracy                           1.00       105\n",
      "   macro avg       1.00      1.00      1.00       105\n",
      "weighted avg       1.00      1.00      1.00       105\n",
      "\n"
     ]
    }
   ],
   "source": [
    "y_test_pred = rr.predict(X_test)\n",
    "print(classification_report(y_train,y_train_pred))"
   ]
  },
  {
   "cell_type": "code",
   "execution_count": null,
   "id": "4b1d8e22-4715-4001-bbfd-4b0727a4c34d",
   "metadata": {},
   "outputs": [],
   "source": [
    "1.)n_estimators=10, The number of trees in the forest.\n",
    "2.)max_depth = 10,The maximum depth of the tree. \n",
    "3.)random_state = 100,Controls both the randomness of the bootstrapping of the samples\n",
    "4.)criterion='gini',The function to measure the quality of a split. Supported criteria are “gini” for the Gini impurity and “entropy”  \n",
    "    for the information gain\n",
    "5.)min_samples_split=2,The minimum number of samples required to split an internal node:\n",
    "6.)min_samples_leaf=1, The minimum number of samples required to be at a leaf node. A split point at any depth will only be considered \n",
    "   if it leaves at least min_samples_leaf training samples in each of the left and right branches. This may have the effect of      \n",
    "   smoothing the model, especially in regression.\n",
    "\n",
    "7.)min_weight_fraction_leaf=0.0,The minimum weighted fraction of the sum total of weights (of all the input samples) required to be at a leaf node. "
   ]
  },
  {
   "cell_type": "markdown",
   "id": "0be19a72",
   "metadata": {},
   "source": [
    "## 11. pick top features from random forest again and try to create a model using only those."
   ]
  },
  {
   "cell_type": "code",
   "execution_count": 142,
   "id": "a3095912-6d69-48f0-a26d-6c66c512a475",
   "metadata": {},
   "outputs": [
    {
     "data": {
      "text/plain": [
       "array([0.04184027, 0.03058959, 0.42521066, 0.50235948])"
      ]
     },
     "execution_count": 142,
     "metadata": {},
     "output_type": "execute_result"
    }
   ],
   "source": [
    "rr.feature_importances_"
   ]
  },
  {
   "cell_type": "code",
   "execution_count": null,
   "id": "ca73f5f7-bef6-433e-a280-353e416344ce",
   "metadata": {},
   "outputs": [],
   "source": []
  },
  {
   "cell_type": "code",
   "execution_count": 143,
   "id": "7a691cf8-c61d-4db9-978d-8ec844300a97",
   "metadata": {},
   "outputs": [],
   "source": [
    "X_train=X_train.drop([0, 1], axis=1)\n",
    "X_test=X_test.drop([0, 1], axis=1)"
   ]
  },
  {
   "cell_type": "code",
   "execution_count": 144,
   "id": "ab2f28b7-f210-453e-bf69-13a4682d8391",
   "metadata": {},
   "outputs": [
    {
     "name": "stderr",
     "output_type": "stream",
     "text": [
      "C:\\Users\\Checkout\\AppData\\Local\\Temp/ipykernel_11836/1017585758.py:2: DataConversionWarning: A column-vector y was passed when a 1d array was expected. Please change the shape of y to (n_samples,), for example using ravel().\n",
      "  rr.fit(X_train, y_train)\n"
     ]
    }
   ],
   "source": [
    "rr = RandomForestClassifier(n_estimators=10,max_depth = 10, random_state = 100)\n",
    "rr.fit(X_train, y_train)\n",
    "y_train_pred = rr.predict(X_train)"
   ]
  },
  {
   "cell_type": "code",
   "execution_count": 145,
   "id": "1c0a94b8-8cde-4860-9122-24911020868a",
   "metadata": {},
   "outputs": [
    {
     "name": "stdout",
     "output_type": "stream",
     "text": [
      "              precision    recall  f1-score   support\n",
      "\n",
      "      Setosa       1.00      1.00      1.00        36\n",
      " Versicolour       1.00      0.97      0.98        32\n",
      "   Virginica       0.97      1.00      0.99        37\n",
      "\n",
      "    accuracy                           0.99       105\n",
      "   macro avg       0.99      0.99      0.99       105\n",
      "weighted avg       0.99      0.99      0.99       105\n",
      "\n"
     ]
    }
   ],
   "source": [
    "y_test_pred = rr.predict(X_test)\n",
    "print(classification_report(y_train,y_train_pred))"
   ]
  },
  {
   "cell_type": "code",
   "execution_count": null,
   "id": "7c2f6fca-a8c7-4a4a-b8b1-0a185b6c8c9a",
   "metadata": {},
   "outputs": [],
   "source": []
  }
 ],
 "metadata": {
  "kernelspec": {
   "display_name": "Python 3 (ipykernel)",
   "language": "python",
   "name": "python3"
  },
  "language_info": {
   "codemirror_mode": {
    "name": "ipython",
    "version": 3
   },
   "file_extension": ".py",
   "mimetype": "text/x-python",
   "name": "python",
   "nbconvert_exporter": "python",
   "pygments_lexer": "ipython3",
   "version": "3.9.7"
  }
 },
 "nbformat": 4,
 "nbformat_minor": 5
}
