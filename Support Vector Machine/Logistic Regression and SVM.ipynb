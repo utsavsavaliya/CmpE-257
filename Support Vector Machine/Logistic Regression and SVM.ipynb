{
 "cells": [
  {
   "cell_type": "markdown",
   "id": "782b58d7",
   "metadata": {},
   "source": [
    "# Classification Algorithms: Logistic Regression and Support Vector Machine"
   ]
  },
  {
   "cell_type": "markdown",
   "id": "1ca4935c",
   "metadata": {},
   "source": [
    "## 1 Explain what is classification and how it is different from regression"
   ]
  },
  {
   "cell_type": "code",
   "execution_count": null,
   "id": "bed9918d-7d6b-4d18-8eaa-c5b3ccd7f0ea",
   "metadata": {},
   "outputs": [],
   "source": [
    "Regresssion is about prediction of quantity which is varying continously while classification is about prediction of labels of class which are discrete."
   ]
  },
  {
   "cell_type": "markdown",
   "id": "69ca8723",
   "metadata": {},
   "source": [
    "## 2 Explain what is Logistic regression, its working and how it is different from linear regression"
   ]
  },
  {
   "cell_type": "code",
   "execution_count": null,
   "id": "972f9a34-f4e4-46b5-b40a-61f9b0e3a36a",
   "metadata": {},
   "outputs": [],
   "source": [
    "Basic difference between the 2 can be evaluated from the application perspective. Linear regression is used for solving regression problems where\n",
    "data is continous.Least square estimation method is used for estimation of accuracy is used here. Logistic regression is mainly used for solving classification problems.\n",
    "The output here will be only 0 and 1.Maximum likelihood estimation method is used for estimation of accuracy is used here\n"
   ]
  },
  {
   "cell_type": "markdown",
   "id": "4bef64f5",
   "metadata": {},
   "source": [
    "## 3 Explain what is Linear SVM and its working"
   ]
  },
  {
   "cell_type": "code",
   "execution_count": null,
   "id": "2980d849-12a0-4a5a-92a5-1a3f415e469f",
   "metadata": {},
   "outputs": [],
   "source": [
    "Here in SVM, we try to find the nearest points to marginal line for both classes. Points are called support vectors and distance between \n",
    "the support vectors and marginal line should be maximum in order to accomodate error.This distance is called the margin. \n",
    "Our goal is to maximize the margin. The hyperplane for which the margin is maximum is the optimal hyperplane.\n",
    "\n",
    "Linear SVM is when data is linearly separatable and we can divide the data by using a line. If data is not linearly separatable than kernal are used."
   ]
  },
  {
   "cell_type": "markdown",
   "id": "6a3e25a7",
   "metadata": {},
   "source": [
    "## 4 What do you mean by kernel functions?"
   ]
  },
  {
   "cell_type": "code",
   "execution_count": null,
   "id": "98cefb7b-2439-4a67-96de-5631d20f70e6",
   "metadata": {},
   "outputs": [],
   "source": [
    "Kernals is a function used in SVM kernels used for solving complex problems.Kernals are best when we cannot linearly separate our data. We can\n",
    "form a separation by moving to higher dimensions and smoothly perform our calculations"
   ]
  },
  {
   "cell_type": "markdown",
   "id": "c77d3934",
   "metadata": {},
   "source": [
    "## 5 Discuss how SVM makes use of kernel functions"
   ]
  },
  {
   "cell_type": "code",
   "execution_count": null,
   "id": "d81a5e93-81d8-4fee-a60c-c1e4debd5114",
   "metadata": {},
   "outputs": [],
   "source": [
    "Kernal has a collection of functions which transforms data into easier form which makes calculation easy.\n",
    "Kernal generally transforms the training data so that a decision boundary can be able to made with non-linearly separable data. \n",
    "\n",
    "Some kernal functions are Polynomial kernel, Gaussian kernel, Gaussian radial basis function (RBF), Laplace RBF kernel, Hyperbolic tangent kernel and Sigmoid kernel "
   ]
  },
  {
   "cell_type": "markdown",
   "id": "f8046cdb",
   "metadata": {},
   "source": [
    "## 6 Discuss the following terms: Accuracy, Precision, Recall, F1 score, Specificity, Sensitivity, AUROC, PRAUC"
   ]
  },
  {
   "cell_type": "code",
   "execution_count": null,
   "id": "02cc5087-4982-42ec-97f0-a482fa4e6208",
   "metadata": {},
   "outputs": [],
   "source": [
    "Accuracy: It is the measure that the object is correctly classified or not.\n",
    "Precision: It is the ratio of correctly classified label to the total correctly classified label by our program.\n",
    "Recall: It is ratio of correctly positive labeled in reality.\n",
    "F1 score: It combines precision and recall into one metric by calculating the harmonic mean between those two.\n",
    "Specificity:It is the correctly negative labeled by the program to all who are healthy in reality.\n",
    "Sensitivity: It is the metric that evaluates a model's ability to predict true positives of each available category.\n"
   ]
  },
  {
   "cell_type": "markdown",
   "id": "6c55cc5b",
   "metadata": {},
   "source": [
    "## 7 perform classification on zoo dataset from kaggle using logistic regression after performing appropriate data pre processing and hyper parameter tuning and evaluate using the technique you feel is fit for this task and give your comments."
   ]
  },
  {
   "cell_type": "code",
   "execution_count": null,
   "id": "036e68e6-595c-4196-8eba-a764ec66089d",
   "metadata": {},
   "outputs": [],
   "source": [
    "# Import required libraries\n",
    "import pandas as pd\n",
    "import numpy as np\n",
    "import matplotlib.pyplot as plt\n",
    "import seaborn as sns\n",
    "from sklearn.linear_model import LogisticRegression\n",
    "from sklearn.metrics import classification_report, confusion_matrix\n",
    "from sklearn.model_selection import KFold, cross_validate, train_test_split\n",
    "from sklearn.datasets import load_breast_cancer\n",
    "from sklearn import svm"
   ]
  },
  {
   "cell_type": "code",
   "execution_count": null,
   "id": "d9a0d039-5b1c-4871-9eae-561b11389efd",
   "metadata": {},
   "outputs": [],
   "source": [
    "data_U= pd.read_csv(\"zoo.csv\")\n",
    "data_U"
   ]
  },
  {
   "cell_type": "code",
   "execution_count": null,
   "id": "8f25b825-c0a7-4980-8b23-eb0854c92670",
   "metadata": {},
   "outputs": [],
   "source": [
    "data_U[\"class_type\"].unique()"
   ]
  },
  {
   "cell_type": "code",
   "execution_count": null,
   "id": "93607168-7ba2-437e-bc53-ce0c69affd32",
   "metadata": {},
   "outputs": [],
   "source": [
    "X=data_U.iloc[:,1:-1]\n",
    "y=data_U.iloc[:,-1]\n",
    "X"
   ]
  },
  {
   "cell_type": "code",
   "execution_count": null,
   "id": "00126994-dfe6-4f6d-a461-e503774a2f90",
   "metadata": {},
   "outputs": [],
   "source": [
    "X_train, X_test, y_train, y_test = train_test_split(X, y, test_size = 0.3, random_state = 100)\n",
    "\n",
    "X_train = X_train.reset_index(drop = True)\n",
    "X_test = X_test.reset_index(drop = True)\n",
    "y_train = y_train.reset_index(drop = True)\n",
    "y_test = y_test.reset_index(drop = True)\n",
    "\n",
    "print(\"size of X_train is: \", X_train.shape)\n",
    "print(\"size of X_test is: \", X_test.shape)\n",
    "print(\"size of y_train is: \", y_train.shape)\n",
    "print(\"size of y_test is: \", y_test.shape)"
   ]
  },
  {
   "cell_type": "code",
   "execution_count": null,
   "id": "03c7b251-bf91-487a-bb5d-fec63b4f264d",
   "metadata": {},
   "outputs": [],
   "source": [
    "#Using hyper parameter tuning\n",
    "model = LogisticRegression(penalty='l2',C=1.0,max_iter = 1000)\n",
    "model.fit(X_train, y_train)\n",
    "y_train_pred = model.predict(X_train)"
   ]
  },
  {
   "cell_type": "code",
   "execution_count": null,
   "id": "8f53b475-d21f-4840-9b3e-81780d9c371c",
   "metadata": {},
   "outputs": [],
   "source": [
    "print(classification_report(y_train, y_train_pred))"
   ]
  },
  {
   "cell_type": "code",
   "execution_count": null,
   "id": "d1ea0941-4ebd-4a6d-8e39-da35af6d64c0",
   "metadata": {},
   "outputs": [],
   "source": [
    "confusion_matrix(y_train, y_train_pred)"
   ]
  },
  {
   "cell_type": "code",
   "execution_count": null,
   "id": "5a2b001f-39a4-4c32-b2d4-c55e2a504010",
   "metadata": {},
   "outputs": [],
   "source": [
    "# Now instead of train and test set, using cross validation\n",
    "model = LogisticRegression(penalty='l2',C=1.0,max_iter = 1000)\n",
    "scores = cross_validate(model, X, y, cv = 4, scoring = 'accuracy', return_train_score = True)\n",
    "scores"
   ]
  },
  {
   "cell_type": "code",
   "execution_count": null,
   "id": "22f4627a-6854-415f-9bf1-bbb80a41c5a6",
   "metadata": {},
   "outputs": [],
   "source": []
  },
  {
   "cell_type": "markdown",
   "id": "0a899783",
   "metadata": {},
   "source": [
    "## 8 perform classification on MNIST dataset using Linear SVM and then using Kernels and compare the methods"
   ]
  },
  {
   "cell_type": "code",
   "execution_count": null,
   "id": "cfa22393-0e34-4e49-b802-895a149dbb72",
   "metadata": {},
   "outputs": [],
   "source": [
    "#from sklearn.datasets import fetch_mldata\n",
    "#mnist = fetch_mldata('MNIST original')\n",
    "from sklearn.datasets import load_digits\n",
    "mnist = pd.read_csv(\"train.csv\")\n",
    "mnist_test = pd.read_csv(\"test.csv\")#test data set\n",
    "mnist_test.keys()"
   ]
  },
  {
   "cell_type": "code",
   "execution_count": null,
   "id": "8e8b83a3-0db7-4604-a98f-f7dca6821686",
   "metadata": {},
   "outputs": [],
   "source": [
    "mnist_test"
   ]
  },
  {
   "cell_type": "code",
   "execution_count": null,
   "id": "f94d1e49-b4ac-4767-8719-df0de499acb4",
   "metadata": {},
   "outputs": [],
   "source": [
    "#pd.DataFrame(mnist.label).head()"
   ]
  },
  {
   "cell_type": "code",
   "execution_count": null,
   "id": "0b3a45ed-dc1c-4e84-853a-c738de7aa184",
   "metadata": {},
   "outputs": [],
   "source": [
    "X=mnist.iloc[:,1:]\n",
    "y=mnist['label']"
   ]
  },
  {
   "cell_type": "code",
   "execution_count": null,
   "id": "e3c5a989-ccbe-494c-816e-dd7c6291a6e2",
   "metadata": {},
   "outputs": [],
   "source": [
    "y.value_counts()"
   ]
  },
  {
   "cell_type": "code",
   "execution_count": null,
   "id": "1ac07331-54ac-4825-a52a-74bc7fae26e9",
   "metadata": {},
   "outputs": [],
   "source": [
    "y_train.value_counts()"
   ]
  },
  {
   "cell_type": "code",
   "execution_count": null,
   "id": "047b20c6-a32b-4b3d-8e65-d15ebbdcad21",
   "metadata": {},
   "outputs": [],
   "source": [
    "X_train, X_test, y_train, y_test = train_test_split(X, y, test_size = 0.3, random_state = 100)\n",
    "\n",
    "X_train = X_train.reset_index(drop = True)\n",
    "X_test = X_test.reset_index(drop = True)\n",
    "y_train = y_train.reset_index(drop = True)\n",
    "y_test = y_test.reset_index(drop = True)\n",
    "\n",
    "print(\"size of X_train is: \", X_train.shape)\n",
    "print(\"size of X_test is: \", X_test.shape)\n",
    "print(\"size of y_train is: \", y_train.shape)\n",
    "print(\"size of y_test is: \", y_test.shape)"
   ]
  },
  {
   "cell_type": "code",
   "execution_count": null,
   "id": "9b24bdfb-027a-4180-a117-75af66e704df",
   "metadata": {},
   "outputs": [],
   "source": [
    "# Training a linear support vector machine\n",
    "mn = svm.LinearSVC()\n",
    "mn.fit(X_train, y_train)\n",
    "yl_test_pred = mn.predict(X_test)\n",
    "print(classification_report(y_test,yl_test_pred))\n",
    "confusion_matrix(y_test, yl_test_pred)# Linear SVM"
   ]
  },
  {
   "cell_type": "code",
   "execution_count": null,
   "id": "b0260c8f-c753-47a1-8115-6e7bc624e726",
   "metadata": {},
   "outputs": [],
   "source": []
  },
  {
   "cell_type": "code",
   "execution_count": null,
   "id": "25b6411b-9b10-483d-87d8-a40507fa08f8",
   "metadata": {},
   "outputs": [],
   "source": [
    "# Training a sigmoid support vector machine\n",
    "mn1 = svm.SVC(kernel='sigmoid',max_iter=100,random_state=42)\n",
    "mn1.fit(X_train, y_train)\n",
    "ys_test_pred = mn1.predict(X_train)\n",
    "print(classification_report(y_test, ys_test_pred))"
   ]
  },
  {
   "cell_type": "code",
   "execution_count": null,
   "id": "962518a7-ae7c-4d14-accb-48a5e74543a2",
   "metadata": {},
   "outputs": [],
   "source": [
    "mn2 = svm.SVC(kernel='rbf',max_iter=100,random_state=42)\n",
    "mn2.fit(X_train, y_train)\n",
    "yr_test_pred = mn1.predict(X_train)\n",
    "print(classification_report(y_test,yr_test_pred))"
   ]
  },
  {
   "cell_type": "code",
   "execution_count": null,
   "id": "e91f6c28-7f8a-46d6-8aa8-8cd00e25433d",
   "metadata": {},
   "outputs": [],
   "source": [
    "mn3 = svm.SVC(kernel='poly',max_iter=100,random_state=42)\n",
    "mn3.fit(X_train, y_train)\n",
    "yp_test_pred = mn1.predict(X_train)\n",
    "print(classification_report(y_test,yp_test_pred))"
   ]
  },
  {
   "cell_type": "code",
   "execution_count": null,
   "id": "870faf04",
   "metadata": {},
   "outputs": [],
   "source": [
    "Poly and rbf gives the better accuracy. \n"
   ]
  }
 ],
 "metadata": {
  "kernelspec": {
   "display_name": "Python 3 (ipykernel)",
   "language": "python",
   "name": "python3"
  },
  "language_info": {
   "codemirror_mode": {
    "name": "ipython",
    "version": 3
   },
   "file_extension": ".py",
   "mimetype": "text/x-python",
   "name": "python",
   "nbconvert_exporter": "python",
   "pygments_lexer": "ipython3",
   "version": "3.9.7"
  }
 },
 "nbformat": 4,
 "nbformat_minor": 5
}
