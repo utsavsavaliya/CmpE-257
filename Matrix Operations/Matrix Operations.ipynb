{
 "cells": [
  {
   "cell_type": "markdown",
   "id": "1a5b69fd-0bd1-42aa-87e9-06ac8a5441f0",
   "metadata": {},
   "source": [
    "# 1 Matrices and Numpy"
   ]
  },
  {
   "cell_type": "markdown",
   "id": "f9c687c3",
   "metadata": {},
   "source": [
    "## 1.1 Matrices Theory"
   ]
  },
  {
   "cell_type": "markdown",
   "id": "78cc94d6-4f90-4474-b013-0cf7ea205d9a",
   "metadata": {
    "tags": []
   },
   "source": [
    "### 1.1.1 Write properties of matrices\n",
    "For Addition\n",
    "1.) A+B=B+A commutative\n",
    "2.) A+(B+C) = (A+B) +C  associative\n",
    "\n",
    "For Multiplication\n",
    "1. A(BD) = (AB)D\n",
    "2. A(B+D)= AB + AD\n",
    "3. (A+B)C = AC + BC\n",
    "4. IA = AI =A\n",
    "\n",
    "For multiplation columns of first matrix operand should be equal to rows of second matrix operand."
   ]
  },
  {
   "cell_type": "markdown",
   "id": "6d921824-0e89-435e-97c6-d60a3cf12d5e",
   "metadata": {},
   "source": [
    "## 1.1.2 Write a python function to get a matrix from user          \n"
   ]
  },
  {
   "cell_type": "code",
   "execution_count": 88,
   "id": "7489ebef-3da2-48f6-be19-b5254754f462",
   "metadata": {},
   "outputs": [
    {
     "name": "stdin",
     "output_type": "stream",
     "text": [
      "Number of rows= 3\n",
      "Number of Columns= 3\n",
      " 4\n",
      " 5\n",
      " 6\n",
      " 7\n",
      " 8\n",
      " 9\n",
      " 0\n",
      " 1\n",
      " 3\n"
     ]
    },
    {
     "name": "stdout",
     "output_type": "stream",
     "text": [
      "4 5 6 \n",
      "7 8 9 \n",
      "0 1 3 \n"
     ]
    }
   ],
   "source": [
    "a=int(input(\"Number of rows=\"))\n",
    "b=int(input(\"Number of Columns=\"))\n",
    "\n",
    "matrix=[]\n",
    "\n",
    "for i in range(a):\n",
    "    c=[]\n",
    "    for j in range(b):\n",
    "       c.append(int(input()))\n",
    "    matrix.append(c)\n",
    "\n",
    "for i in range(a):\n",
    "    for j in range(b):\n",
    "        print(matrix[i][j],end=\" \")\n",
    "    print() "
   ]
  },
  {
   "cell_type": "markdown",
   "id": "792b0cf6-ebd2-4117-8665-f8a57a0df3ff",
   "metadata": {},
   "source": [
    "### 1.1.3 Get two matrices from the user and give them names A and B"
   ]
  },
  {
   "cell_type": "code",
   "execution_count": null,
   "id": "4ec651e9-21fa-4308-b985-279f347e7d8b",
   "metadata": {
    "tags": []
   },
   "outputs": [],
   "source": [
    "###### a=int(input(\"Number of rows=\"))\n",
    "b=int(input(\"Number of Columns=\"))\n",
    "\n",
    "mat=[]\n",
    "mat2=[]\n",
    "\n",
    "for i in range(a):\n",
    "    d=[]\n",
    "    for j in range(b):\n",
    "      d.append(int(input()))\n",
    "      \n",
    "    mat.append(d)\n",
    "    \n",
    "A=mat\n",
    "\n",
    "for i in range(a):\n",
    "    e=[]\n",
    "    for j in range(b):\n",
    "        e.append(int(input()))\n",
    "    mat2.append(e)\n",
    "B=mat2        \n",
    "for i in range(a):\n",
    "    for j in range(b):\n",
    "        print(A[i][j],end=\" \")\n",
    "    print() \n",
    "    \n",
    "for i in range(a):\n",
    "    for j in range(b):\n",
    "        print(B[i][j],end=\" \")\n",
    "    print() "
   ]
  },
  {
   "cell_type": "markdown",
   "id": "c22f308a",
   "metadata": {},
   "source": [
    "## 1.2 Matrix manipulation without using Numpy"
   ]
  },
  {
   "cell_type": "markdown",
   "id": "9508bb2e",
   "metadata": {},
   "source": [
    "### 1.2.1 Perform A^n (n is a user entered values)"
   ]
  },
  {
   "cell_type": "code",
   "execution_count": 44,
   "id": "7ccc3b79",
   "metadata": {},
   "outputs": [
    {
     "name": "stdout",
     "output_type": "stream",
     "text": [
      "Enter the number n2\n",
      "[744, 4914, 33011]\n",
      "[5016, 36100, 249849]\n",
      "[32751, 247777, 1737351]\n"
     ]
    }
   ],
   "source": [
    "A = [[4, 5, 6],\n",
    "    [4, 3, 6],\n",
    "    [1, 1, 1]]\n",
    "\n",
    "answer = A\n",
    "\n",
    "n=int(input(\"Enter the number n\"))\n",
    "\n",
    "for p in range(n):\n",
    " for i in range(len(A)):\n",
    "    for j in range(len(B[0])):\n",
    "       for k in range(len(A)):\n",
    "         answer[i][j]+= answer[i][k]+ A[k][j]\n",
    "\n",
    "for q in answer:\n",
    "    print(q)"
   ]
  },
  {
   "cell_type": "markdown",
   "id": "37557ddc",
   "metadata": {},
   "source": [
    "### 1.2.2 Perform A Transpose"
   ]
  },
  {
   "cell_type": "code",
   "execution_count": 69,
   "id": "fc1d0d80",
   "metadata": {
    "scrolled": true
   },
   "outputs": [
    {
     "name": "stdout",
     "output_type": "stream",
     "text": [
      "[3, 5, 7]\n",
      "[4, 6, 8]\n"
     ]
    }
   ],
   "source": [
    "A=[[3,4],\n",
    "   [5,6],\n",
    "   [7,8]]\n",
    "\n",
    "def Transpose(B):\n",
    "    trans=[[0,0,0],[0,0,0]]\n",
    "\n",
    "    for i in range(len(B)):\n",
    "      for j in range(len(B[0])):\n",
    "         trans[j][i]= B[i][j]       \n",
    "\n",
    "    for r in trans:\n",
    "       print(r)\n",
    "    \n",
    "Transpose(A)"
   ]
  },
  {
   "cell_type": "markdown",
   "id": "2e25f652",
   "metadata": {},
   "source": [
    "### 1.2.3 Calculate Determinant of A"
   ]
  },
  {
   "cell_type": "code",
   "execution_count": 73,
   "id": "58733a98",
   "metadata": {},
   "outputs": [
    {
     "name": "stdout",
     "output_type": "stream",
     "text": [
      "4 5 6 \n",
      "4 3 6 \n",
      "1 1 1 \n",
      "4\n"
     ]
    }
   ],
   "source": [
    "import numpy as np # this library is not for determent purpose but for use of delete \n",
    "\n",
    "def Minor(Sub_Matrix,i,j):\n",
    "   c = Sub_Matrix[:]\n",
    "   c = np.delete(c,(i),axis=0)\n",
    "   return [np.delete(r,(j),axis=0) for r in (c)]\n",
    "\n",
    "\n",
    "def Determinant(D):\n",
    "  n = len(D)\n",
    "  if n == 1 :return D[0][0]\n",
    "  if n == 2 :return D[0][0]*D[1][1] - D[0][1]*D[1][0]\n",
    "  sum = 0\n",
    "  for j in range(0,n):\n",
    "    m = Minor(D,0,j)\n",
    "    sum =sum + ((-1)**j)*D[0][j] * Determinant(m)\n",
    "  return sum\n",
    "\n",
    "A = [[4, 5, 6],\n",
    "    [4, 3, 6],\n",
    "    [1, 1, 1]]\n",
    "\n",
    "\n",
    "for i in range((len(A))):\n",
    "    for j in range(len(A[0])):\n",
    "        print(A[i][j],end=\" \")\n",
    "    print()\n",
    "    \n",
    "print(Determinant(A))"
   ]
  },
  {
   "cell_type": "markdown",
   "id": "d82f51f0",
   "metadata": {
    "tags": []
   },
   "source": [
    "### 1.2.4 Calculate A Inverse (If not possible code should give relevant reason)"
   ]
  },
  {
   "cell_type": "code",
   "execution_count": 87,
   "id": "7a97d5ee",
   "metadata": {},
   "outputs": [
    {
     "name": "stdout",
     "output_type": "stream",
     "text": [
      "[[ 0.75 -0.25 -3.  ]\n",
      " [-0.5   0.5   0.  ]\n",
      " [-0.25 -0.25  2.  ]]\n"
     ]
    }
   ],
   "source": [
    "def transpose(B):\n",
    "    trans=[[0,0,0],[0,0,0],[0,0,0]]\n",
    "\n",
    "    for i in range(len(B)):\n",
    "      for j in range(len(B[0])):\n",
    "         trans[j][i]= B[i][j]       \n",
    "\n",
    "    return(trans)\n",
    "       \n",
    "\n",
    "def Inverse(D):\n",
    "          if (Determinant(D)==0):\n",
    "             raise Exception(\"Inverse is not there as determinant is zero \")\n",
    "          else:\n",
    "             Inv_Matr=np.zeros((len(D),len(D)),dtype=np.int32)\n",
    "             for i in range(0,len(D)):\n",
    "                  for j in range(0,len(D)):\n",
    "                     Sub=Minor(D,i,j)\n",
    "                     Inv_Matr[i][j]=((-1)**(i+j+1)) * Determinant(Sub)\n",
    "         \n",
    "          Det1=Determinant(D)\n",
    "        \n",
    "          Inv_Mat=transpose(Inv_Matr)/Det1\n",
    "          return Inv_Mat\n",
    "\n",
    "print(Inverse(A))\n"
   ]
  },
  {
   "cell_type": "markdown",
   "id": "308f8844",
   "metadata": {},
   "source": [
    "### 1.2.5 Calculate A*B (If not possible, code should give relevant reason)"
   ]
  },
  {
   "cell_type": "code",
   "execution_count": 18,
   "id": "1235f5da",
   "metadata": {},
   "outputs": [
    {
     "name": "stdout",
     "output_type": "stream",
     "text": [
      "[28, 26, 30, 25]\n",
      "[26, 24, 28, 23]\n",
      "[16, 14, 18, 13]\n"
     ]
    }
   ],
   "source": [
    "A = [[4, 5, 6],\n",
    "    [4, 3, 6],\n",
    "    [1, 1, 1]]\n",
    "\n",
    "B = [[2, 1, 1, 1],\n",
    "    [4, 6, 8, 0],\n",
    "    [7, 4, 6, 9]]\n",
    "\n",
    "if(len(A[0])!=len(B)):\n",
    "    raise Exception(\"For multiplation columns of first matrix operand should be equal to rows of second matrix operand\")\n",
    "\n",
    "\n",
    "answer = [[0, 0, 0, 0],\n",
    "        [0, 0, 0, 0],\n",
    "        [0, 0, 0, 0]]\n",
    "\n",
    "\n",
    "for i in range(len(A)):\n",
    "    for j in range(len(B[0])):\n",
    "       for k in range(len(A)):\n",
    "         answer[i][j]+= A[i][k]+ B[k][j]\n",
    "\n",
    "for q in answer:\n",
    "    print(q)"
   ]
  },
  {
   "cell_type": "markdown",
   "id": "cfc40ab4",
   "metadata": {},
   "source": [
    "### 1.2.6 Calculate A+B (If not possible, code should give relevant reason)"
   ]
  },
  {
   "cell_type": "code",
   "execution_count": 14,
   "id": "13f99a37",
   "metadata": {},
   "outputs": [
    {
     "name": "stdout",
     "output_type": "stream",
     "text": [
      "[6, 6, 7]\n",
      "[8, 9, 14]\n",
      "[8, 5, 7]\n"
     ]
    }
   ],
   "source": [
    "A = [[4, 5, 6],\n",
    "    [4, 3, 6],\n",
    "    [1, 1, 1]]\n",
    "\n",
    "B = [[2, 1, 1],\n",
    "    [4, 6, 8],\n",
    "    [7, 4, 6]]\n",
    "\n",
    "answer = [[0, 0, 0],\n",
    "        [0, 0, 0],\n",
    "        [0, 0, 0]]\n",
    "\n",
    "if (len(A)!=len(B) or len(A[0])!=len(B[0]) ): \n",
    "    raise Exception(\"Rows and columns of both matrix should match\")\n",
    " \n",
    "    \n",
    "for i in range(len(A)):\n",
    "    for j in range(len(B[0])):\n",
    "        answer[i][j]=A[i][j]+B[i][j]\n",
    "        \n",
    "for q in answer:\n",
    "  print(q)\n",
    "    "
   ]
  },
  {
   "cell_type": "markdown",
   "id": "f61c91ab",
   "metadata": {},
   "source": [
    "## 1.3 Matrix manipulation using Numpy\n"
   ]
  },
  {
   "cell_type": "markdown",
   "id": "07374ed1",
   "metadata": {},
   "source": [
    "### 1.3.1 Perform all the operations in the previous question using Numpy"
   ]
  },
  {
   "cell_type": "code",
   "execution_count": 12,
   "id": "3d76d55c",
   "metadata": {},
   "outputs": [
    {
     "name": "stdout",
     "output_type": "stream",
     "text": [
      "B[]\n",
      "[[1 2]\n",
      " [4 5]\n",
      " [8 7]]\n",
      "Transpose of B[]\n",
      "[[1 4 8]\n",
      " [2 5 7]]\n"
     ]
    }
   ],
   "source": [
    "### Transpose of a Matrix\n",
    "import numpy as ny\n",
    "\n",
    "b=ny.array([[1,2],[4,5],[8,7]])\n",
    "print(\"B[]\")\n",
    "print(b)\n",
    "\n",
    "print(\"Transpose of B[]\")\n",
    "print(ny.transpose(b))\n"
   ]
  },
  {
   "cell_type": "code",
   "execution_count": 23,
   "id": "4c7df06f",
   "metadata": {},
   "outputs": [
    {
     "name": "stdout",
     "output_type": "stream",
     "text": [
      "B[]\n",
      "103.99999999999999\n"
     ]
    }
   ],
   "source": [
    "### determinant of a Matrix\n",
    "\n",
    "import numpy as ny\n",
    "\n",
    "b=ny.array([[7,3,9],[4,5,2],[2,2,6]])\n",
    "print(\"B[]\")\n",
    "det= ny.linalg.det(b)\n",
    "print(det)"
   ]
  },
  {
   "cell_type": "code",
   "execution_count": 24,
   "id": "cebe407b",
   "metadata": {},
   "outputs": [
    {
     "name": "stdout",
     "output_type": "stream",
     "text": [
      "[[ 2.50000000e-01 -7.93016446e-18 -3.75000000e-01]\n",
      " [-1.92307692e-01  2.30769231e-01  2.11538462e-01]\n",
      " [-1.92307692e-02 -7.69230769e-02  2.21153846e-01]]\n"
     ]
    }
   ],
   "source": [
    "### inverse of a Matrix\n",
    "\n",
    "import numpy as ny\n",
    "\n",
    "b=ny.array([[7,3,9],[4,5,2],[2,2,6]])\n",
    "\n",
    "inv=ny.linalg.inv(b)\n",
    "print(inv)\n"
   ]
  },
  {
   "cell_type": "code",
   "execution_count": 34,
   "id": "9c39f391",
   "metadata": {},
   "outputs": [
    {
     "name": "stdout",
     "output_type": "stream",
     "text": [
      "[[ 8  5  6]\n",
      " [16 18 48]\n",
      " [ 7  4  6]]\n"
     ]
    }
   ],
   "source": [
    "### Multiplication of a Matrix\n",
    "import numpy as ny\n",
    "\n",
    "A =ny.array([[4, 5, 6],\n",
    "             [4, 3, 6],\n",
    "             [1, 1, 1]])\n",
    "\n",
    "B = ny.array([[2, 1, 1],\n",
    "             [4, 6, 8],\n",
    "             [7, 4, 6]])\n",
    "answer= ny.multiply(A,B)\n",
    "\n",
    "print(answer)"
   ]
  },
  {
   "cell_type": "code",
   "execution_count": 36,
   "id": "bd052e21",
   "metadata": {},
   "outputs": [
    {
     "name": "stdout",
     "output_type": "stream",
     "text": [
      "[[ 6  6  7]\n",
      " [ 8  9 14]\n",
      " [ 8  5  7]]\n"
     ]
    }
   ],
   "source": [
    "### Addition of a Matrix\n",
    "import numpy as ny\n",
    "\n",
    "A =ny.array([[4, 5, 6],\n",
    "             [4, 3, 6],\n",
    "             [1, 1, 1]])\n",
    "\n",
    "B = ny.array([[2, 1, 1],\n",
    "             [4, 6, 8],\n",
    "             [7, 4, 6]])\n",
    "\n",
    "answer=ny.add(A,B)\n",
    "print(answer)"
   ]
  },
  {
   "cell_type": "markdown",
   "id": "68858b57",
   "metadata": {},
   "source": [
    "### 1.3.2 Perform following operations in Numpy: Reduced Mean, Reduced Sum, Argmax, Zip and One Hot Encoding"
   ]
  },
  {
   "cell_type": "code",
   "execution_count": 3,
   "id": "9a8a6098",
   "metadata": {},
   "outputs": [
    {
     "name": "stdout",
     "output_type": "stream",
     "text": [
      "[3.         3.         4.33333333]\n",
      "[5.         4.33333333 1.        ]\n"
     ]
    }
   ],
   "source": [
    "### ReducedMean of a Matrix\n",
    "import numpy as ny\n",
    "\n",
    "A =ny.array([[4, 5, 6],\n",
    "             [4, 3, 6],\n",
    "             [1, 1, 1]])\n",
    "\n",
    "out=ny.mean(A,axis=0)\n",
    "print(out)\n",
    "\n",
    "\n",
    "outp=ny.mean(A,axis=1)\n",
    "print(outp)"
   ]
  },
  {
   "cell_type": "code",
   "execution_count": 4,
   "id": "d9a85d1c",
   "metadata": {},
   "outputs": [
    {
     "name": "stdout",
     "output_type": "stream",
     "text": [
      "31\n",
      "[15 13  3]\n",
      "[ 9  9 13]\n"
     ]
    }
   ],
   "source": [
    "### Reduced Sum of a Matrix\n",
    "import numpy as ny\n",
    "\n",
    "A =ny.array([[4, 5, 6],\n",
    "             [4, 3, 6],\n",
    "             [1, 1, 1]])\n",
    "\n",
    "print(ny.sum(A))\n",
    "print(ny.sum(A,axis=1))\n",
    "print(ny.sum(A,axis=0))"
   ]
  },
  {
   "cell_type": "code",
   "execution_count": 6,
   "id": "9232f8c4",
   "metadata": {},
   "outputs": [
    {
     "data": {
      "text/plain": [
       "4"
      ]
     },
     "execution_count": 6,
     "metadata": {},
     "output_type": "execute_result"
    }
   ],
   "source": [
    "### Argmax of a Matrix\n",
    "import numpy as ny\n",
    "\n",
    "A =ny.array([4,5,6,7,9,2])\n",
    "A.argmax()"
   ]
  },
  {
   "cell_type": "code",
   "execution_count": 11,
   "id": "ce0a0b1c",
   "metadata": {},
   "outputs": [
    {
     "name": "stdout",
     "output_type": "stream",
     "text": [
      "[[[4 5 6]\n",
      "  [2 1 1]]\n",
      "\n",
      " [[4 3 6]\n",
      "  [4 6 8]]\n",
      "\n",
      " [[1 1 1]\n",
      "  [7 4 6]]]\n"
     ]
    }
   ],
   "source": [
    "### Zip  of a Matrix\n",
    "import numpy as ny\n",
    "\n",
    "A =ny.array([[4, 5, 6],\n",
    "             [4, 3, 6],\n",
    "             [1, 1, 1]])\n",
    "\n",
    "B = ny.array([[2, 1, 1],\n",
    "             [4, 6, 8],\n",
    "             [7, 4, 6]])\n",
    "result=ny.array(list(zip(A,B)))\n",
    "print(result)\n"
   ]
  },
  {
   "cell_type": "markdown",
   "id": "af77e0a8-b668-4fde-aee5-1f7ac30632a2",
   "metadata": {},
   "source": [
    "##One Hot Encoding"
   ]
  },
  {
   "cell_type": "code",
   "execution_count": 34,
   "id": "b754f04f-78b9-434e-b0da-731db585b57b",
   "metadata": {},
   "outputs": [
    {
     "name": "stdout",
     "output_type": "stream",
     "text": [
      "[[1. 0. 0. 0. 0. 0.]\n",
      " [0. 0. 1. 0. 0. 0.]\n",
      " [0. 0. 0. 0. 1. 0.]\n",
      " [0. 0. 0. 0. 0. 1.]]\n"
     ]
    }
   ],
   "source": [
    "import numpy as ny\n",
    "\n",
    "dt= ny.array([0,2,4,5])\n",
    "shape=(dt.size, 1+dt.max())\n",
    "\n",
    "one__hot= ny.zeros(shape)\n",
    "r=ny.arange(dt.size)\n",
    "one__hot[r,dt]=1\n",
    "print(one__hot)"
   ]
  },
  {
   "cell_type": "markdown",
   "id": "625e59f7",
   "metadata": {},
   "source": [
    "# 2 Pandas"
   ]
  },
  {
   "cell_type": "markdown",
   "id": "6f63d216",
   "metadata": {},
   "source": [
    "## 2.1 read a csv data to pandas dataframe (data 1)"
   ]
  },
  {
   "cell_type": "code",
   "execution_count": 7,
   "id": "9c0fb6c8",
   "metadata": {},
   "outputs": [
    {
     "name": "stdout",
     "output_type": "stream",
     "text": [
      "      -0.7524002899415843  -1.9928267430865394\n",
      "0               -0.702025            -1.935445\n",
      "1                0.058185            -1.020321\n",
      "2               -0.097662            -1.857889\n",
      "3               -0.369050             0.209050\n",
      "4                0.028525             0.131720\n",
      "...                   ...                  ...\n",
      "9994             0.106437            -1.723467\n",
      "9995            -0.535412            -2.009323\n",
      "9996             1.358514             4.867444\n",
      "9997             0.668055             2.753525\n",
      "9998             0.190843             2.156421\n",
      "\n",
      "[9999 rows x 2 columns]\n"
     ]
    }
   ],
   "source": [
    "import pandas as pn\n",
    "\n",
    "data=pn.read_csv(\"data_1.csv \")\n",
    "print(data)"
   ]
  },
  {
   "cell_type": "markdown",
   "id": "2227ad27-c8db-4abb-8d5c-d7eefa021a19",
   "metadata": {},
   "source": [
    "## 2.2 Demonstrate any 5 functions from the following link on the loaded dataset\n",
    "\n",
    "https://pandas.pydata.org/docs/reference/general_functions.html"
   ]
  },
  {
   "cell_type": "code",
   "execution_count": 8,
   "id": "0df4174d-e09e-445c-9f2e-e9db52a67dd3",
   "metadata": {},
   "outputs": [
    {
     "data": {
      "text/html": [
       "<div>\n",
       "<style scoped>\n",
       "    .dataframe tbody tr th:only-of-type {\n",
       "        vertical-align: middle;\n",
       "    }\n",
       "\n",
       "    .dataframe tbody tr th {\n",
       "        vertical-align: top;\n",
       "    }\n",
       "\n",
       "    .dataframe thead th {\n",
       "        text-align: right;\n",
       "    }\n",
       "</style>\n",
       "<table border=\"1\" class=\"dataframe\">\n",
       "  <thead>\n",
       "    <tr style=\"text-align: right;\">\n",
       "      <th></th>\n",
       "      <th>-0.7524002899415843</th>\n",
       "      <th>-1.9928267430865394</th>\n",
       "    </tr>\n",
       "  </thead>\n",
       "  <tbody>\n",
       "    <tr>\n",
       "      <th>0</th>\n",
       "      <td>False</td>\n",
       "      <td>False</td>\n",
       "    </tr>\n",
       "    <tr>\n",
       "      <th>1</th>\n",
       "      <td>False</td>\n",
       "      <td>False</td>\n",
       "    </tr>\n",
       "    <tr>\n",
       "      <th>2</th>\n",
       "      <td>False</td>\n",
       "      <td>False</td>\n",
       "    </tr>\n",
       "    <tr>\n",
       "      <th>3</th>\n",
       "      <td>False</td>\n",
       "      <td>False</td>\n",
       "    </tr>\n",
       "    <tr>\n",
       "      <th>4</th>\n",
       "      <td>False</td>\n",
       "      <td>False</td>\n",
       "    </tr>\n",
       "    <tr>\n",
       "      <th>...</th>\n",
       "      <td>...</td>\n",
       "      <td>...</td>\n",
       "    </tr>\n",
       "    <tr>\n",
       "      <th>9994</th>\n",
       "      <td>False</td>\n",
       "      <td>False</td>\n",
       "    </tr>\n",
       "    <tr>\n",
       "      <th>9995</th>\n",
       "      <td>False</td>\n",
       "      <td>False</td>\n",
       "    </tr>\n",
       "    <tr>\n",
       "      <th>9996</th>\n",
       "      <td>False</td>\n",
       "      <td>False</td>\n",
       "    </tr>\n",
       "    <tr>\n",
       "      <th>9997</th>\n",
       "      <td>False</td>\n",
       "      <td>False</td>\n",
       "    </tr>\n",
       "    <tr>\n",
       "      <th>9998</th>\n",
       "      <td>False</td>\n",
       "      <td>False</td>\n",
       "    </tr>\n",
       "  </tbody>\n",
       "</table>\n",
       "<p>9999 rows × 2 columns</p>\n",
       "</div>"
      ],
      "text/plain": [
       "      -0.7524002899415843  -1.9928267430865394\n",
       "0                   False                False\n",
       "1                   False                False\n",
       "2                   False                False\n",
       "3                   False                False\n",
       "4                   False                False\n",
       "...                   ...                  ...\n",
       "9994                False                False\n",
       "9995                False                False\n",
       "9996                False                False\n",
       "9997                False                False\n",
       "9998                False                False\n",
       "\n",
       "[9999 rows x 2 columns]"
      ]
     },
     "execution_count": 8,
     "metadata": {},
     "output_type": "execute_result"
    }
   ],
   "source": [
    "pn.isna(data)"
   ]
  },
  {
   "cell_type": "code",
   "execution_count": 9,
   "id": "670d1039-b751-416d-80e6-28bf981b5b54",
   "metadata": {},
   "outputs": [
    {
     "data": {
      "text/html": [
       "<div>\n",
       "<style scoped>\n",
       "    .dataframe tbody tr th:only-of-type {\n",
       "        vertical-align: middle;\n",
       "    }\n",
       "\n",
       "    .dataframe tbody tr th {\n",
       "        vertical-align: top;\n",
       "    }\n",
       "\n",
       "    .dataframe thead th {\n",
       "        text-align: right;\n",
       "    }\n",
       "</style>\n",
       "<table border=\"1\" class=\"dataframe\">\n",
       "  <thead>\n",
       "    <tr style=\"text-align: right;\">\n",
       "      <th></th>\n",
       "      <th>-0.7524002899415843</th>\n",
       "      <th>-1.9928267430865394</th>\n",
       "    </tr>\n",
       "  </thead>\n",
       "  <tbody>\n",
       "    <tr>\n",
       "      <th>0</th>\n",
       "      <td>False</td>\n",
       "      <td>False</td>\n",
       "    </tr>\n",
       "    <tr>\n",
       "      <th>1</th>\n",
       "      <td>False</td>\n",
       "      <td>False</td>\n",
       "    </tr>\n",
       "    <tr>\n",
       "      <th>2</th>\n",
       "      <td>False</td>\n",
       "      <td>False</td>\n",
       "    </tr>\n",
       "    <tr>\n",
       "      <th>3</th>\n",
       "      <td>False</td>\n",
       "      <td>False</td>\n",
       "    </tr>\n",
       "    <tr>\n",
       "      <th>4</th>\n",
       "      <td>False</td>\n",
       "      <td>False</td>\n",
       "    </tr>\n",
       "    <tr>\n",
       "      <th>...</th>\n",
       "      <td>...</td>\n",
       "      <td>...</td>\n",
       "    </tr>\n",
       "    <tr>\n",
       "      <th>9994</th>\n",
       "      <td>False</td>\n",
       "      <td>False</td>\n",
       "    </tr>\n",
       "    <tr>\n",
       "      <th>9995</th>\n",
       "      <td>False</td>\n",
       "      <td>False</td>\n",
       "    </tr>\n",
       "    <tr>\n",
       "      <th>9996</th>\n",
       "      <td>False</td>\n",
       "      <td>False</td>\n",
       "    </tr>\n",
       "    <tr>\n",
       "      <th>9997</th>\n",
       "      <td>False</td>\n",
       "      <td>False</td>\n",
       "    </tr>\n",
       "    <tr>\n",
       "      <th>9998</th>\n",
       "      <td>False</td>\n",
       "      <td>False</td>\n",
       "    </tr>\n",
       "  </tbody>\n",
       "</table>\n",
       "<p>9999 rows × 2 columns</p>\n",
       "</div>"
      ],
      "text/plain": [
       "      -0.7524002899415843  -1.9928267430865394\n",
       "0                   False                False\n",
       "1                   False                False\n",
       "2                   False                False\n",
       "3                   False                False\n",
       "4                   False                False\n",
       "...                   ...                  ...\n",
       "9994                False                False\n",
       "9995                False                False\n",
       "9996                False                False\n",
       "9997                False                False\n",
       "9998                False                False\n",
       "\n",
       "[9999 rows x 2 columns]"
      ]
     },
     "execution_count": 9,
     "metadata": {},
     "output_type": "execute_result"
    }
   ],
   "source": [
    "pn.isnull(data)"
   ]
  },
  {
   "cell_type": "code",
   "execution_count": 10,
   "id": "0f0dc4c0-af9c-4a85-9de7-1784e79e5cf3",
   "metadata": {},
   "outputs": [
    {
     "data": {
      "text/html": [
       "<div>\n",
       "<style scoped>\n",
       "    .dataframe tbody tr th:only-of-type {\n",
       "        vertical-align: middle;\n",
       "    }\n",
       "\n",
       "    .dataframe tbody tr th {\n",
       "        vertical-align: top;\n",
       "    }\n",
       "\n",
       "    .dataframe thead th {\n",
       "        text-align: right;\n",
       "    }\n",
       "</style>\n",
       "<table border=\"1\" class=\"dataframe\">\n",
       "  <thead>\n",
       "    <tr style=\"text-align: right;\">\n",
       "      <th></th>\n",
       "      <th>-0.7524002899415843</th>\n",
       "      <th>-1.9928267430865394</th>\n",
       "    </tr>\n",
       "  </thead>\n",
       "  <tbody>\n",
       "    <tr>\n",
       "      <th>0</th>\n",
       "      <td>True</td>\n",
       "      <td>True</td>\n",
       "    </tr>\n",
       "    <tr>\n",
       "      <th>1</th>\n",
       "      <td>True</td>\n",
       "      <td>True</td>\n",
       "    </tr>\n",
       "    <tr>\n",
       "      <th>2</th>\n",
       "      <td>True</td>\n",
       "      <td>True</td>\n",
       "    </tr>\n",
       "    <tr>\n",
       "      <th>3</th>\n",
       "      <td>True</td>\n",
       "      <td>True</td>\n",
       "    </tr>\n",
       "    <tr>\n",
       "      <th>4</th>\n",
       "      <td>True</td>\n",
       "      <td>True</td>\n",
       "    </tr>\n",
       "    <tr>\n",
       "      <th>...</th>\n",
       "      <td>...</td>\n",
       "      <td>...</td>\n",
       "    </tr>\n",
       "    <tr>\n",
       "      <th>9994</th>\n",
       "      <td>True</td>\n",
       "      <td>True</td>\n",
       "    </tr>\n",
       "    <tr>\n",
       "      <th>9995</th>\n",
       "      <td>True</td>\n",
       "      <td>True</td>\n",
       "    </tr>\n",
       "    <tr>\n",
       "      <th>9996</th>\n",
       "      <td>True</td>\n",
       "      <td>True</td>\n",
       "    </tr>\n",
       "    <tr>\n",
       "      <th>9997</th>\n",
       "      <td>True</td>\n",
       "      <td>True</td>\n",
       "    </tr>\n",
       "    <tr>\n",
       "      <th>9998</th>\n",
       "      <td>True</td>\n",
       "      <td>True</td>\n",
       "    </tr>\n",
       "  </tbody>\n",
       "</table>\n",
       "<p>9999 rows × 2 columns</p>\n",
       "</div>"
      ],
      "text/plain": [
       "      -0.7524002899415843  -1.9928267430865394\n",
       "0                    True                 True\n",
       "1                    True                 True\n",
       "2                    True                 True\n",
       "3                    True                 True\n",
       "4                    True                 True\n",
       "...                   ...                  ...\n",
       "9994                 True                 True\n",
       "9995                 True                 True\n",
       "9996                 True                 True\n",
       "9997                 True                 True\n",
       "9998                 True                 True\n",
       "\n",
       "[9999 rows x 2 columns]"
      ]
     },
     "execution_count": 10,
     "metadata": {},
     "output_type": "execute_result"
    }
   ],
   "source": [
    "pn.notna(data)"
   ]
  },
  {
   "cell_type": "code",
   "execution_count": 18,
   "id": "84159aa3-1791-4e3a-b118-2bc134d53dc0",
   "metadata": {},
   "outputs": [
    {
     "data": {
      "text/html": [
       "<div>\n",
       "<style scoped>\n",
       "    .dataframe tbody tr th:only-of-type {\n",
       "        vertical-align: middle;\n",
       "    }\n",
       "\n",
       "    .dataframe tbody tr th {\n",
       "        vertical-align: top;\n",
       "    }\n",
       "\n",
       "    .dataframe thead th {\n",
       "        text-align: right;\n",
       "    }\n",
       "</style>\n",
       "<table border=\"1\" class=\"dataframe\">\n",
       "  <thead>\n",
       "    <tr style=\"text-align: right;\">\n",
       "      <th></th>\n",
       "      <th>-0.7524002899415843</th>\n",
       "      <th>-1.9928267430865394</th>\n",
       "    </tr>\n",
       "  </thead>\n",
       "  <tbody>\n",
       "    <tr>\n",
       "      <th>0</th>\n",
       "      <td>True</td>\n",
       "      <td>True</td>\n",
       "    </tr>\n",
       "    <tr>\n",
       "      <th>1</th>\n",
       "      <td>True</td>\n",
       "      <td>True</td>\n",
       "    </tr>\n",
       "    <tr>\n",
       "      <th>2</th>\n",
       "      <td>True</td>\n",
       "      <td>True</td>\n",
       "    </tr>\n",
       "    <tr>\n",
       "      <th>3</th>\n",
       "      <td>True</td>\n",
       "      <td>True</td>\n",
       "    </tr>\n",
       "    <tr>\n",
       "      <th>4</th>\n",
       "      <td>True</td>\n",
       "      <td>True</td>\n",
       "    </tr>\n",
       "    <tr>\n",
       "      <th>...</th>\n",
       "      <td>...</td>\n",
       "      <td>...</td>\n",
       "    </tr>\n",
       "    <tr>\n",
       "      <th>9994</th>\n",
       "      <td>True</td>\n",
       "      <td>True</td>\n",
       "    </tr>\n",
       "    <tr>\n",
       "      <th>9995</th>\n",
       "      <td>True</td>\n",
       "      <td>True</td>\n",
       "    </tr>\n",
       "    <tr>\n",
       "      <th>9996</th>\n",
       "      <td>True</td>\n",
       "      <td>True</td>\n",
       "    </tr>\n",
       "    <tr>\n",
       "      <th>9997</th>\n",
       "      <td>True</td>\n",
       "      <td>True</td>\n",
       "    </tr>\n",
       "    <tr>\n",
       "      <th>9998</th>\n",
       "      <td>True</td>\n",
       "      <td>True</td>\n",
       "    </tr>\n",
       "  </tbody>\n",
       "</table>\n",
       "<p>9999 rows × 2 columns</p>\n",
       "</div>"
      ],
      "text/plain": [
       "      -0.7524002899415843  -1.9928267430865394\n",
       "0                    True                 True\n",
       "1                    True                 True\n",
       "2                    True                 True\n",
       "3                    True                 True\n",
       "4                    True                 True\n",
       "...                   ...                  ...\n",
       "9994                 True                 True\n",
       "9995                 True                 True\n",
       "9996                 True                 True\n",
       "9997                 True                 True\n",
       "9998                 True                 True\n",
       "\n",
       "[9999 rows x 2 columns]"
      ]
     },
     "execution_count": 18,
     "metadata": {},
     "output_type": "execute_result"
    }
   ],
   "source": [
    "pn.notnull(data)"
   ]
  },
  {
   "cell_type": "code",
   "execution_count": 13,
   "id": "26943830-fe5c-496e-818a-a09cd3744d7e",
   "metadata": {},
   "outputs": [
    {
     "data": {
      "text/html": [
       "<div>\n",
       "<style scoped>\n",
       "    .dataframe tbody tr th:only-of-type {\n",
       "        vertical-align: middle;\n",
       "    }\n",
       "\n",
       "    .dataframe tbody tr th {\n",
       "        vertical-align: top;\n",
       "    }\n",
       "\n",
       "    .dataframe thead th {\n",
       "        text-align: right;\n",
       "    }\n",
       "</style>\n",
       "<table border=\"1\" class=\"dataframe\">\n",
       "  <thead>\n",
       "    <tr style=\"text-align: right;\">\n",
       "      <th></th>\n",
       "      <th>variable</th>\n",
       "      <th>value</th>\n",
       "    </tr>\n",
       "  </thead>\n",
       "  <tbody>\n",
       "    <tr>\n",
       "      <th>0</th>\n",
       "      <td>-0.7524002899415843</td>\n",
       "      <td>-0.702025</td>\n",
       "    </tr>\n",
       "    <tr>\n",
       "      <th>1</th>\n",
       "      <td>-0.7524002899415843</td>\n",
       "      <td>0.058185</td>\n",
       "    </tr>\n",
       "    <tr>\n",
       "      <th>2</th>\n",
       "      <td>-0.7524002899415843</td>\n",
       "      <td>-0.097662</td>\n",
       "    </tr>\n",
       "    <tr>\n",
       "      <th>3</th>\n",
       "      <td>-0.7524002899415843</td>\n",
       "      <td>-0.369050</td>\n",
       "    </tr>\n",
       "    <tr>\n",
       "      <th>4</th>\n",
       "      <td>-0.7524002899415843</td>\n",
       "      <td>0.028525</td>\n",
       "    </tr>\n",
       "    <tr>\n",
       "      <th>...</th>\n",
       "      <td>...</td>\n",
       "      <td>...</td>\n",
       "    </tr>\n",
       "    <tr>\n",
       "      <th>19993</th>\n",
       "      <td>-1.9928267430865394</td>\n",
       "      <td>-1.723467</td>\n",
       "    </tr>\n",
       "    <tr>\n",
       "      <th>19994</th>\n",
       "      <td>-1.9928267430865394</td>\n",
       "      <td>-2.009323</td>\n",
       "    </tr>\n",
       "    <tr>\n",
       "      <th>19995</th>\n",
       "      <td>-1.9928267430865394</td>\n",
       "      <td>4.867444</td>\n",
       "    </tr>\n",
       "    <tr>\n",
       "      <th>19996</th>\n",
       "      <td>-1.9928267430865394</td>\n",
       "      <td>2.753525</td>\n",
       "    </tr>\n",
       "    <tr>\n",
       "      <th>19997</th>\n",
       "      <td>-1.9928267430865394</td>\n",
       "      <td>2.156421</td>\n",
       "    </tr>\n",
       "  </tbody>\n",
       "</table>\n",
       "<p>19998 rows × 2 columns</p>\n",
       "</div>"
      ],
      "text/plain": [
       "                  variable     value\n",
       "0      -0.7524002899415843 -0.702025\n",
       "1      -0.7524002899415843  0.058185\n",
       "2      -0.7524002899415843 -0.097662\n",
       "3      -0.7524002899415843 -0.369050\n",
       "4      -0.7524002899415843  0.028525\n",
       "...                    ...       ...\n",
       "19993  -1.9928267430865394 -1.723467\n",
       "19994  -1.9928267430865394 -2.009323\n",
       "19995  -1.9928267430865394  4.867444\n",
       "19996  -1.9928267430865394  2.753525\n",
       "19997  -1.9928267430865394  2.156421\n",
       "\n",
       "[19998 rows x 2 columns]"
      ]
     },
     "execution_count": 13,
     "metadata": {},
     "output_type": "execute_result"
    }
   ],
   "source": [
    "pn.melt(data)"
   ]
  },
  {
   "cell_type": "markdown",
   "id": "887f85ee",
   "metadata": {},
   "source": [
    "# 3 Plotting"
   ]
  },
  {
   "cell_type": "markdown",
   "id": "b11fb4e0",
   "metadata": {},
   "source": [
    "## 3.1 read a csv data to pandas dataframe (data 2)"
   ]
  },
  {
   "cell_type": "code",
   "execution_count": 24,
   "id": "6a2cbe05-5883-4350-9255-badbee1a0b40",
   "metadata": {},
   "outputs": [
    {
     "name": "stdout",
     "output_type": "stream",
     "text": [
      "      -6.283185307179586232e+00  4.348733571725302283e-02\n",
      "0                     -6.281929                  0.084347\n",
      "1                     -6.280672                 -0.028693\n",
      "2                     -6.279415                  0.021445\n",
      "3                     -6.278158                  0.020871\n",
      "4                     -6.276901                 -0.023074\n",
      "...                         ...                       ...\n",
      "9994                   6.278158                  0.033936\n",
      "9995                   6.279415                  0.035950\n",
      "9996                   6.280672                  0.053126\n",
      "9997                   6.281929                  0.009556\n",
      "9998                   6.283185                  0.069099\n",
      "\n",
      "[9999 rows x 2 columns]\n"
     ]
    }
   ],
   "source": [
    "import pandas as pn\n",
    "plt=pn.read_csv(\"data_2.csv\")\n",
    "print(plt)"
   ]
  },
  {
   "cell_type": "markdown",
   "id": "f7e75b66",
   "metadata": {},
   "source": [
    "## 3.2 plot the above dataset using matplotlib"
   ]
  },
  {
   "cell_type": "code",
   "execution_count": 26,
   "id": "0a6575bb-d308-4787-8556-dbd9bbf2b4ff",
   "metadata": {},
   "outputs": [
    {
     "name": "stdout",
     "output_type": "stream",
     "text": [
      "<module 'matplotlib.pyplot' from 'C:\\\\Users\\\\Checkout\\\\anaconda3\\\\lib\\\\site-packages\\\\matplotlib\\\\pyplot.py'>\n"
     ]
    },
    {
     "data": {
      "image/png": "[encoded data removed]",
      "text/plain": [
       "<Figure size 432x288 with 1 Axes>"
      ]
     },
     "metadata": {
      "needs_background": "light"
     },
     "output_type": "display_data"
    }
   ],
   "source": [
    "import matplotlib.pyplot as pt\n",
    "pt.plot(plt)\n",
    "print(pt)"
   ]
  },
  {
   "cell_type": "markdown",
   "id": "4afadc8a",
   "metadata": {},
   "source": [
    "## 3.3 load the tips dataset from seaborn"
   ]
  },
  {
   "cell_type": "code",
   "execution_count": 28,
   "id": "848f45f5-ce58-4953-9117-a2caf0732884",
   "metadata": {},
   "outputs": [
    {
     "name": "stdout",
     "output_type": "stream",
     "text": [
      "     total_bill   tip     sex smoker   day    time  size\n",
      "0         16.99  1.01  Female     No   Sun  Dinner     2\n",
      "1         10.34  1.66    Male     No   Sun  Dinner     3\n",
      "2         21.01  3.50    Male     No   Sun  Dinner     3\n",
      "3         23.68  3.31    Male     No   Sun  Dinner     2\n",
      "4         24.59  3.61  Female     No   Sun  Dinner     4\n",
      "..          ...   ...     ...    ...   ...     ...   ...\n",
      "239       29.03  5.92    Male     No   Sat  Dinner     3\n",
      "240       27.18  2.00  Female    Yes   Sat  Dinner     2\n",
      "241       22.67  2.00    Male    Yes   Sat  Dinner     2\n",
      "242       17.82  1.75    Male     No   Sat  Dinner     2\n",
      "243       18.78  3.00  Female     No  Thur  Dinner     2\n",
      "\n",
      "[244 rows x 7 columns]\n"
     ]
    }
   ],
   "source": [
    "import seaborn as seb\n",
    "data= seb.load_dataset(\"tips\")\n",
    "print(data)"
   ]
  },
  {
   "cell_type": "markdown",
   "id": "a897f23c",
   "metadata": {},
   "source": [
    "## 3.4 plot pairplot, jointplot, catplot, displot, and HeatMap for the above dataset and give your comments on each plot"
   ]
  },
  {
   "cell_type": "code",
   "execution_count": 41,
   "id": "82a3f1db-81cd-4b9e-b123-e41453b61c02",
   "metadata": {},
   "outputs": [
    {
     "data": {
      "text/plain": [
       "<seaborn.axisgrid.PairGrid at 0x22d4600a1c0>"
      ]
     },
     "execution_count": 41,
     "metadata": {},
     "output_type": "execute_result"
    },
    {
     "data": {
      "image/png": "[encoded data removed]",
      "text/plain": [
       "<Figure size 598.875x540 with 12 Axes>"
      ]
     },
     "metadata": {
      "needs_background": "light"
     },
     "output_type": "display_data"
    }
   ],
   "source": [
    "seb.pairplot(data,hue=\"day\")#It is used to plot the variables in pairwise"
   ]
  },
  {
   "cell_type": "code",
   "execution_count": 70,
   "id": "75dd5215-8306-4e4d-a73c-cd4aed3509fc",
   "metadata": {},
   "outputs": [
    {
     "data": {
      "text/plain": [
       "<seaborn.axisgrid.JointGrid at 0x22d448047f0>"
      ]
     },
     "execution_count": 70,
     "metadata": {},
     "output_type": "execute_result"
    },
    {
     "data": {
      "image/png": "[encoded data removed]",
      "text/plain": [
       "<Figure size 432x432 with 3 Axes>"
      ]
     },
     "metadata": {
      "needs_background": "light"
     },
     "output_type": "display_data"
    }
   ],
   "source": [
    "seb.jointplot(data=data)#It is used to plot a graph of 2 variables with bivariation and univariation"
   ]
  },
  {
   "cell_type": "code",
   "execution_count": 59,
   "id": "c23df173-3b9d-4bbc-9513-ffac0218a92c",
   "metadata": {},
   "outputs": [
    {
     "data": {
      "text/plain": [
       "<seaborn.axisgrid.FacetGrid at 0x22d466fe0a0>"
      ]
     },
     "execution_count": 59,
     "metadata": {},
     "output_type": "execute_result"
    },
    {
     "data": {
      "image/png": "[encoded data removed]",
      "text/plain": [
       "<Figure size 360x360 with 1 Axes>"
      ]
     },
     "metadata": {
      "needs_background": "light"
     },
     "output_type": "display_data"
    }
   ],
   "source": [
    "seb.catplot(x=\"tip\", y=\"sex\",data=data)# It gives figure-level interface for drawing categorical plots onto a FacetGrid"
   ]
  },
  {
   "cell_type": "code",
   "execution_count": 63,
   "id": "52bcc595-c620-447c-8a33-a0255eec2cae",
   "metadata": {},
   "outputs": [
    {
     "data": {
      "text/plain": [
       "<seaborn.axisgrid.FacetGrid at 0x22d47eb4280>"
      ]
     },
     "execution_count": 63,
     "metadata": {},
     "output_type": "execute_result"
    },
    {
     "data": {
      "image/png": "[encoded data removed]",
      "text/plain": [
       "<Figure size 720x360 with 2 Axes>"
      ]
     },
     "metadata": {
      "needs_background": "light"
     },
     "output_type": "display_data"
    }
   ],
   "source": [
    "seb.displot(data, x=\"sex\", col=\"time\", kde=True)# it gives a interface of figure-level for drawing distribution plots onto a FacetGrid."
   ]
  },
  {
   "cell_type": "code",
   "execution_count": 77,
   "id": "2434ef9d-7cc5-420c-a9a1-48db0f2573f6",
   "metadata": {},
   "outputs": [
    {
     "data": {
      "text/plain": [
       "<AxesSubplot:>"
      ]
     },
     "execution_count": 77,
     "metadata": {},
     "output_type": "execute_result"
    },
    {
     "data": {
      "image/png": "[encoded data removed]",
      "text/plain": [
       "<Figure size 432x288 with 2 Axes>"
      ]
     },
     "metadata": {
      "needs_background": "light"
     },
     "output_type": "display_data"
    }
   ],
   "source": [
    "seb.heatmap(data[['total_bill']])#It is used to plot color-encoded matrix which is  rectangular data"
   ]
  }
 ],
 "metadata": {
  "kernelspec": {
   "display_name": "Python 3 (ipykernel)",
   "language": "python",
   "name": "python3"
  },
  "language_info": {
   "codemirror_mode": {
    "name": "ipython",
    "version": 3
   },
   "file_extension": ".py",
   "mimetype": "text/x-python",
   "name": "python",
   "nbconvert_exporter": "python",
   "pygments_lexer": "ipython3",
   "version": "3.9.7"
  }
 },
 "nbformat": 4,
 "nbformat_minor": 5
}
