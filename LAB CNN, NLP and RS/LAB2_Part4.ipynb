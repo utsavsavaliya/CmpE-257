{
 "cells": [
  {
   "cell_type": "markdown",
   "id": "288ac6a2-1a6d-4910-b6b9-83cf9c1e5393",
   "metadata": {},
   "source": [
    "##  Task 4 Random Forest – Self implementation"
   ]
  },
  {
   "cell_type": "code",
   "execution_count": 2,
   "id": "262838f2-e0fb-4e40-841f-d09f5d5fb7f1",
   "metadata": {},
   "outputs": [],
   "source": [
    "# importing libraries\n",
    "import numpy as np\n",
    "from sklearn.model_selection import train_test_split \n",
    "from sklearn.metrics import confusion_matrix\n",
    "from sklearn.ensemble import RandomForestClassifier\n",
    "import matplotlib.pyplot as plt\n",
    "from sklearn.tree import DecisionTreeClassifier\n",
    "from random import randrange\n",
    "from sklearn.datasets import load_iris\n",
    "import pandas as pd"
   ]
  },
  {
   "cell_type": "markdown",
   "id": "aaa0cfb8-6520-4292-8584-d85466be7933",
   "metadata": {},
   "source": [
    "1. complete the following function that creates subsample of a dataset with replacement"
   ]
  },
  {
   "cell_type": "code",
   "execution_count": 7,
   "id": "0f4cd82f-7e84-4612-849d-15d6540fcaf0",
   "metadata": {},
   "outputs": [],
   "source": [
    "def subsample(dataset, ratio): \n",
    "    s= int(len(dataset)*ratio)\n",
    "    index = [randrange(0,len(dataset)) for _ in range(s)]\n",
    "    return dataset.iloc[index,:]"
   ]
  },
  {
   "cell_type": "markdown",
   "id": "7bc95f33-1b9c-4515-86df-e4a540772952",
   "metadata": {},
   "source": [
    "2. complete the following function that creates subsample of the dataset with feature size reduced as per the given ratio"
   ]
  },
  {
   "cell_type": "code",
   "execution_count": null,
   "id": "c7c803b8-3545-4982-ab5e-45034d25f4af",
   "metadata": {},
   "outputs": [],
   "source": [
    "def subsample2(dataset, ratio):\n",
    "    s=int(len(dataset.iloc[0])*ratio)\n",
    "    index_features = [randrange(0,len(dataset.iloc[0]-1)) for _ in range(s)]\n",
    "    return dataset.iloc[:,index_features]\n",
    "    \n",
    "    "
   ]
  },
  {
   "cell_type": "markdown",
   "id": "e38425c7-1a70-4a15-b175-0148812128c9",
   "metadata": {},
   "source": [
    "3. Perform train test split without using sklearn (complete the following function)"
   ]
  },
  {
   "cell_type": "code",
   "execution_count": 9,
   "id": "25668977-c58a-4a32-87d9-d1302dfba20a",
   "metadata": {},
   "outputs": [],
   "source": [
    "def split_train_test(dataset, test_size):\n",
    "    train_dataset= dataset.sample(frac=1-test_size,random_state=35)\n",
    "    test_dataset= dataset.drop(train_dataset.index)\n",
    "    return train_dataset,test_dataset "
   ]
  },
  {
   "cell_type": "code",
   "execution_count": null,
   "id": "5ea71caf-7a6e-4705-8588-53e308266f74",
   "metadata": {},
   "outputs": [],
   "source": []
  },
  {
   "cell_type": "markdown",
   "id": "ea6dd7ba-539d-49c3-84f3-0b0794747a28",
   "metadata": {},
   "source": [
    "4. Perform training using random forest algorithm by completing the function below"
   ]
  },
  {
   "cell_type": "code",
   "execution_count": 10,
   "id": "e279f963-9d22-47cd-ab70-79dcb44b6043",
   "metadata": {},
   "outputs": [],
   "source": [
    "# Random Forest Algorithm\n",
    "def random_forest_train(train, n_trees, max_depth, sample_size, n_features_ratio):\n",
    "    rf_clf=[]\n",
    "    for i in range( n_trees):\n",
    "           rf_clf_model=DecisionTreeClassifier(max_depth = max_depth,max_features=int((len(train.iloc[0])-1)*n_features_ration))\n",
    "           training_sample= subsample(train,sample_size)\n",
    "           rf_clf.append(rf_clf_model.fit(training_sample.iloc[:,0:4],training_sample['target']))\n",
    "    return rf_clf\n",
    "        "
   ]
  },
  {
   "cell_type": "code",
   "execution_count": null,
   "id": "a0bf644b-8e7c-430d-a72c-f7b81c788792",
   "metadata": {},
   "outputs": [],
   "source": []
  },
  {
   "cell_type": "markdown",
   "id": "9072af3d-e6a2-4cde-b776-c57ad7570e28",
   "metadata": {},
   "source": [
    "5. Complete the following prediction function of random forest"
   ]
  },
  {
   "cell_type": "code",
   "execution_count": 15,
   "id": "a9f9b333-8583-4853-9610-426ed302b017",
   "metadata": {},
   "outputs": [],
   "source": [
    "def random_forest_predict(test, trees):\n",
    "    all_preds=[]\n",
    "    for i in range(len(trees)):\n",
    "        predictions= trees[i].predict(test)\n",
    "        all_preds.append(predictions)\n",
    "    df_all_preds= pd.DataFrame(all_preds)\n",
    "    new_predictions= df_all_preds.mode(axis=0)\n",
    "    return new_predictions.T,all_preds"
   ]
  },
  {
   "cell_type": "code",
   "execution_count": null,
   "id": "ab6cec43-b382-48dc-9d13-f3d6ce7c24da",
   "metadata": {},
   "outputs": [],
   "source": []
  },
  {
   "cell_type": "code",
   "execution_count": 16,
   "id": "dce2c49e-d481-466a-af9c-7468af40d5ce",
   "metadata": {},
   "outputs": [
    {
     "data": {
      "text/html": [
       "<div>\n",
       "<style scoped>\n",
       "    .dataframe tbody tr th:only-of-type {\n",
       "        vertical-align: middle;\n",
       "    }\n",
       "\n",
       "    .dataframe tbody tr th {\n",
       "        vertical-align: top;\n",
       "    }\n",
       "\n",
       "    .dataframe thead th {\n",
       "        text-align: right;\n",
       "    }\n",
       "</style>\n",
       "<table border=\"1\" class=\"dataframe\">\n",
       "  <thead>\n",
       "    <tr style=\"text-align: right;\">\n",
       "      <th></th>\n",
       "      <th>0</th>\n",
       "      <th>1</th>\n",
       "      <th>2</th>\n",
       "      <th>3</th>\n",
       "      <th>target</th>\n",
       "    </tr>\n",
       "  </thead>\n",
       "  <tbody>\n",
       "    <tr>\n",
       "      <th>0</th>\n",
       "      <td>5.1</td>\n",
       "      <td>3.5</td>\n",
       "      <td>1.4</td>\n",
       "      <td>0.2</td>\n",
       "      <td>0</td>\n",
       "    </tr>\n",
       "    <tr>\n",
       "      <th>1</th>\n",
       "      <td>4.9</td>\n",
       "      <td>3.0</td>\n",
       "      <td>1.4</td>\n",
       "      <td>0.2</td>\n",
       "      <td>0</td>\n",
       "    </tr>\n",
       "    <tr>\n",
       "      <th>2</th>\n",
       "      <td>4.7</td>\n",
       "      <td>3.2</td>\n",
       "      <td>1.3</td>\n",
       "      <td>0.2</td>\n",
       "      <td>0</td>\n",
       "    </tr>\n",
       "    <tr>\n",
       "      <th>3</th>\n",
       "      <td>4.6</td>\n",
       "      <td>3.1</td>\n",
       "      <td>1.5</td>\n",
       "      <td>0.2</td>\n",
       "      <td>0</td>\n",
       "    </tr>\n",
       "    <tr>\n",
       "      <th>4</th>\n",
       "      <td>5.0</td>\n",
       "      <td>3.6</td>\n",
       "      <td>1.4</td>\n",
       "      <td>0.2</td>\n",
       "      <td>0</td>\n",
       "    </tr>\n",
       "    <tr>\n",
       "      <th>...</th>\n",
       "      <td>...</td>\n",
       "      <td>...</td>\n",
       "      <td>...</td>\n",
       "      <td>...</td>\n",
       "      <td>...</td>\n",
       "    </tr>\n",
       "    <tr>\n",
       "      <th>145</th>\n",
       "      <td>6.7</td>\n",
       "      <td>3.0</td>\n",
       "      <td>5.2</td>\n",
       "      <td>2.3</td>\n",
       "      <td>2</td>\n",
       "    </tr>\n",
       "    <tr>\n",
       "      <th>146</th>\n",
       "      <td>6.3</td>\n",
       "      <td>2.5</td>\n",
       "      <td>5.0</td>\n",
       "      <td>1.9</td>\n",
       "      <td>2</td>\n",
       "    </tr>\n",
       "    <tr>\n",
       "      <th>147</th>\n",
       "      <td>6.5</td>\n",
       "      <td>3.0</td>\n",
       "      <td>5.2</td>\n",
       "      <td>2.0</td>\n",
       "      <td>2</td>\n",
       "    </tr>\n",
       "    <tr>\n",
       "      <th>148</th>\n",
       "      <td>6.2</td>\n",
       "      <td>3.4</td>\n",
       "      <td>5.4</td>\n",
       "      <td>2.3</td>\n",
       "      <td>2</td>\n",
       "    </tr>\n",
       "    <tr>\n",
       "      <th>149</th>\n",
       "      <td>5.9</td>\n",
       "      <td>3.0</td>\n",
       "      <td>5.1</td>\n",
       "      <td>1.8</td>\n",
       "      <td>2</td>\n",
       "    </tr>\n",
       "  </tbody>\n",
       "</table>\n",
       "<p>150 rows × 5 columns</p>\n",
       "</div>"
      ],
      "text/plain": [
       "       0    1    2    3  target\n",
       "0    5.1  3.5  1.4  0.2       0\n",
       "1    4.9  3.0  1.4  0.2       0\n",
       "2    4.7  3.2  1.3  0.2       0\n",
       "3    4.6  3.1  1.5  0.2       0\n",
       "4    5.0  3.6  1.4  0.2       0\n",
       "..   ...  ...  ...  ...     ...\n",
       "145  6.7  3.0  5.2  2.3       2\n",
       "146  6.3  2.5  5.0  1.9       2\n",
       "147  6.5  3.0  5.2  2.0       2\n",
       "148  6.2  3.4  5.4  2.3       2\n",
       "149  5.9  3.0  5.1  1.8       2\n",
       "\n",
       "[150 rows x 5 columns]"
      ]
     },
     "execution_count": 16,
     "metadata": {},
     "output_type": "execute_result"
    }
   ],
   "source": [
    "# importing the dataset\n",
    "dataset = load_iris()\n",
    "df = pd.DataFrame(dataset.data)\n",
    "df[\"target\"] = dataset.target\n",
    "df"
   ]
  },
  {
   "cell_type": "code",
   "execution_count": null,
   "id": "33007a06-0da9-4b40-b467-ed592342f901",
   "metadata": {},
   "outputs": [],
   "source": []
  },
  {
   "cell_type": "code",
   "execution_count": null,
   "id": "b177e3ba-e420-4d02-ac5b-d7d1cefd4594",
   "metadata": {},
   "outputs": [],
   "source": []
  },
  {
   "cell_type": "code",
   "execution_count": null,
   "id": "837675fd-43a8-4252-8e66-8ad8538e45c7",
   "metadata": {},
   "outputs": [],
   "source": []
  },
  {
   "cell_type": "code",
   "execution_count": null,
   "id": "71982ef4-71b0-4ef1-8670-af6c6cdee137",
   "metadata": {},
   "outputs": [],
   "source": []
  },
  {
   "cell_type": "code",
   "execution_count": null,
   "id": "aca351c1-97b7-49b0-bd66-8dc7ddfce305",
   "metadata": {},
   "outputs": [],
   "source": []
  },
  {
   "cell_type": "code",
   "execution_count": null,
   "id": "f43c6853-ac19-4f0d-84d4-2fbd90791deb",
   "metadata": {},
   "outputs": [],
   "source": []
  },
  {
   "cell_type": "code",
   "execution_count": null,
   "id": "267a8e28-fc96-4e6b-b22a-959fd2f0edfb",
   "metadata": {},
   "outputs": [],
   "source": []
  }
 ],
 "metadata": {
  "kernelspec": {
   "display_name": "Python 3 (ipykernel)",
   "language": "python",
   "name": "python3"
  },
  "language_info": {
   "codemirror_mode": {
    "name": "ipython",
    "version": 3
   },
   "file_extension": ".py",
   "mimetype": "text/x-python",
   "name": "python",
   "nbconvert_exporter": "python",
   "pygments_lexer": "ipython3",
   "version": "3.9.7"
  }
 },
 "nbformat": 4,
 "nbformat_minor": 5
}
