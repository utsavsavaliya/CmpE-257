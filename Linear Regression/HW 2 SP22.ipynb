{
 "cells": [
  {
   "cell_type": "markdown",
   "id": "bfdfb9d4",
   "metadata": {},
   "source": [
    "# Linear Regression"
   ]
  },
  {
   "cell_type": "markdown",
   "id": "99ceaa2c",
   "metadata": {},
   "source": [
    "## 1 Explain how a linear regression algorithm trains in your own words"
   ]
  },
  {
   "cell_type": "markdown",
   "id": "eeeb25f7-2697-4dbe-a43e-5e8bd1d3c853",
   "metadata": {},
   "source": [
    "Linear regression has 2 inputs. One is x which is independent variable and another is y which is \n",
    "dependent varaible. \n",
    "It finds the Y values with given X values based on some information already given about the relation \n",
    "between X and Y. So it tries to find the best fit line y=mx+c for the test data which includes the \n",
    "minimum square error.\n",
    "\n",
    "The data which is given to find this best fit line is called training data. The performance of the model can be tested by division of data set into training and test data nad than mean squared error and coefficient of determination are measured to evalute it\n"
   ]
  },
  {
   "cell_type": "markdown",
   "id": "ffdaa541",
   "metadata": {},
   "source": [
    "## 2 Load the sklearn boston dataset"
   ]
  },
  {
   "cell_type": "code",
   "execution_count": null,
   "id": "6ed0f66f-3406-4d72-bcf1-d29a216c4e70",
   "metadata": {},
   "outputs": [],
   "source": [
    "from sklearn import datasets\n",
    "from sklearn.datasets import load_boston\n",
    "import matplotlib.pyplot as plt\n",
    "import seaborn as sns\n",
    "import numpy as np\n",
    "import pandas as pd\n",
    "from sklearn.linear_model import LinearRegression\n",
    "from sklearn.metrics import mean_squared_error, r2_score\n",
    "from sklearn.model_selection import train_test_split\n",
    "from sklearn.preprocessing import MinMaxScaler\n",
    "from pandas.core.frame import DataFrame\n",
    "\n",
    "housing= datasets.load_boston()\n",
    "print(housing)"
   ]
  },
  {
   "cell_type": "markdown",
   "id": "63255f93",
   "metadata": {
    "tags": []
   },
   "source": [
    "## 3 Visualize the dataset using graphs"
   ]
  },
  {
   "cell_type": "code",
   "execution_count": null,
   "id": "ee9e2343-e90a-4119-8e2e-89c4f7506b15",
   "metadata": {},
   "outputs": [],
   "source": []
  },
  {
   "cell_type": "code",
   "execution_count": null,
   "id": "013357a7-0629-48d0-9814-1668ace5108f",
   "metadata": {},
   "outputs": [],
   "source": [
    "from sklearn.metrics import RocCurveDisplay\n",
    "import matplotlib.pyplot as plt\n",
    "import seaborn as sns\n",
    "import pandas as pd\n",
    "\n",
    "bost= pd.DataFrame(housing.data,columns=housing.feature_names)\n",
    "bost['MEDV']= housing.target\n",
    "bost.columns = ['CRIM', 'ZN', 'INDUS', 'CHAS', 'NOX', 'RM', 'AGE', 'DIS', 'RAD', 'TAX', 'PTRATIO','B', 'LSTAT', 'MEDV']\n",
    "print(bost.head())\n"
   ]
  },
  {
   "cell_type": "code",
   "execution_count": null,
   "id": "9801c60a-085d-4452-b8f4-da21561d8ec2",
   "metadata": {},
   "outputs": [],
   "source": [
    "plt.hist(bost['COST'], bins=40)"
   ]
  },
  {
   "cell_type": "code",
   "execution_count": null,
   "id": "57bb943a-6ece-4ab9-89a9-1e1361908ff7",
   "metadata": {},
   "outputs": [],
   "source": [
    "plt.scatter(bost[\"CRIM\"],bost[\"COST\"])"
   ]
  },
  {
   "cell_type": "code",
   "execution_count": null,
   "id": "e6839c49-52de-4571-ae10-fc1c5b72b0ba",
   "metadata": {},
   "outputs": [],
   "source": [
    "plt.scatter(bost[\"ZN\"],bost[\"COST\"])"
   ]
  },
  {
   "cell_type": "code",
   "execution_count": null,
   "id": "c0ce710c-3b9f-4ce2-b55d-58cdaaf5aced",
   "metadata": {},
   "outputs": [],
   "source": [
    "plt.scatter(bost[\"INDUS\"],bost[\"COST\"])"
   ]
  },
  {
   "cell_type": "code",
   "execution_count": null,
   "id": "c665b344-9f03-4d3f-9211-6a3790e7e8a6",
   "metadata": {},
   "outputs": [],
   "source": [
    "plt.scatter(bost[\"CHAS\"],bost[\"COST\"])"
   ]
  },
  {
   "cell_type": "code",
   "execution_count": null,
   "id": "b56ff1a4-a034-4b64-bcd0-74d7ceb2ce5a",
   "metadata": {},
   "outputs": [],
   "source": [
    "plt.scatter(bost[\"NOX\"],bost[\"COST\"])"
   ]
  },
  {
   "cell_type": "code",
   "execution_count": null,
   "id": "e308297a-9386-4390-902f-5db2fabea2bc",
   "metadata": {},
   "outputs": [],
   "source": [
    "plt.scatter(bost[\"RM\"],bost[\"COST\"])"
   ]
  },
  {
   "cell_type": "code",
   "execution_count": null,
   "id": "1d9c7f4e-ccc6-4a38-8795-bca84574f948",
   "metadata": {},
   "outputs": [],
   "source": [
    "plt.scatter(bost[\"AGE\"],bost[\"COST\"])"
   ]
  },
  {
   "cell_type": "code",
   "execution_count": null,
   "id": "4fef6f97-abf7-4c3b-aff6-304268359263",
   "metadata": {},
   "outputs": [],
   "source": [
    "plt.scatter(bost[\"DIS\"],bost[\"COST\"])"
   ]
  },
  {
   "cell_type": "code",
   "execution_count": null,
   "id": "6e70465c-d764-4376-902f-96e31913d03e",
   "metadata": {},
   "outputs": [],
   "source": [
    "plt.scatter(bost[\"RAD\"],bost[\"COST\"])"
   ]
  },
  {
   "cell_type": "code",
   "execution_count": null,
   "id": "3de265f8-60e7-445f-8521-5563d5fb3aa5",
   "metadata": {},
   "outputs": [],
   "source": [
    "plt.scatter(bost[\"TAX\"],bost[\"COST\"])"
   ]
  },
  {
   "cell_type": "code",
   "execution_count": null,
   "id": "4d6ab438-7872-400e-85c7-0b4f7771c499",
   "metadata": {},
   "outputs": [],
   "source": [
    "plt.scatter(bost[\"PTRATIO\"],bost[\"COST\"])"
   ]
  },
  {
   "cell_type": "code",
   "execution_count": null,
   "id": "8f313b17-a388-4428-9ef6-2cde4accb934",
   "metadata": {},
   "outputs": [],
   "source": [
    "plt.scatter(bost[\"B\"],bost[\"COST\"])"
   ]
  },
  {
   "cell_type": "code",
   "execution_count": null,
   "id": "3c76f918-c939-44da-9bde-1ed5f2a91c55",
   "metadata": {},
   "outputs": [],
   "source": [
    "plt.scatter(bost[\"LSTAT\"],bost[\"COST\"])"
   ]
  },
  {
   "cell_type": "markdown",
   "id": "fe2c3282",
   "metadata": {},
   "source": [
    "## 4 Calculate the pearson correlation matrix of the data"
   ]
  },
  {
   "cell_type": "code",
   "execution_count": null,
   "id": "3bd02299-23bc-4262-a8f2-2e6f7bbfed61",
   "metadata": {},
   "outputs": [],
   "source": [
    "corr_mat = bost.corr(method='pearson')\n",
    "plt.figure(figsize = (16, 12))\n",
    "sns.heatmap(corr_mat, annot = True, fmt = '.2f',linecolor='black',cbar=True,center=1)"
   ]
  },
  {
   "cell_type": "markdown",
   "id": "407e8f05",
   "metadata": {},
   "source": [
    "## 5 Select features which are more related to the target variable using graphs and the correlation matrix, are the both indicating the same features? (MEDV is the target variable)"
   ]
  },
  {
   "cell_type": "code",
   "execution_count": null,
   "id": "1cbb8aef-40b4-438f-8e74-32ac4119b1ea",
   "metadata": {},
   "outputs": [],
   "source": [
    "Upper_limit=0.5\n",
    "count=len(corr_mat)-1\n",
    "bost2=pd.DataFrame()\n",
    "for r in range(count):\n",
    "     if(abs(corr_mat.iloc[r,count])>Upper_limit):\n",
    "            print(corr_mat.iloc[r,count],corr_mat.columns[r],r)\n",
    "            bost2[corr_mat.columns[r]]= bost2.iloc[:,r:r+1]\n",
    "bost2.head()"
   ]
  },
  {
   "cell_type": "code",
   "execution_count": null,
   "id": "0e9ac6e5-376a-4cc0-9b31-46e605f4174f",
   "metadata": {},
   "outputs": [],
   "source": []
  },
  {
   "cell_type": "code",
   "execution_count": null,
   "id": "8510f489-9247-4adf-b1c4-42043aa8857e",
   "metadata": {},
   "outputs": [],
   "source": [
    "#plt.figure(figsize=(20, 7))\n",
    "#bost['MEDV']= housing.target\n",
    "#ch=['RM','LSTAT']\n",
    "\n",
    "#for r,col in enumerate(ch):\n",
    "    #plt.subplot(1,len(ch),r+1)\n",
    "    #x_axis=bost[col]\n",
    "    #y_axis=bost['MEDV']    \n",
    "    #plt.scatter(x_axis,y_axis)\n",
    "   #plt.title(\"Variation in prices of houses\")\n",
    "    #plt.ylabel(\" Price of houses in thousands\")\n",
    "    #plt.xlabel(col)"
   ]
  },
  {
   "cell_type": "markdown",
   "id": "d6817861",
   "metadata": {},
   "source": [
    "## 6 Compare correlation of feature between themselves and if two features are highly correlated remove one of them (the one with lesser correlation with the target variable) "
   ]
  },
  {
   "cell_type": "code",
   "execution_count": null,
   "id": "42a1ab30-19af-4fa6-a429-3a947904e2b5",
   "metadata": {},
   "outputs": [],
   "source": [
    "limit=0.75\n",
    "remove=[]\n",
    "count1=len(corr_mat)-1\n",
    "bost3=bost.copy(deep=True)\n",
    "for i in range(count1):\n",
    "  for j in range(count1-i):\n",
    "    if(corr_mat.iloc[i+j,j]>limit and corr_mat.iloc[i+j,j]!=1):\n",
    "      print(corr_mat.iloc[i+j,j],corr_mat.columns[i+j],i+j,corr_mat.iloc[i+j,count1],corr_mat.columns[j],j,corr_mat.iloc[j,count1],'\\n')\n",
    "      if(abs(corr_mat.iloc[i+j,count1]) < abs(corr_mat.iloc[j,count1])):\n",
    "        remove.append(corr_mat.columns[i+j])\n",
    "      else:\n",
    "        remove.append(corr_mat.columns[j])\n",
    "\n",
    "for i in remove:\n",
    "  print('Deleting column number :',i)\n",
    "  bost3.drop(bost3[[i]], axis = 1, inplace = True)\n",
    "  print(bost3.columns[:],'\\n')"
   ]
  },
  {
   "cell_type": "code",
   "execution_count": null,
   "id": "1080f9fa-d743-40fd-95bf-0affe935f834",
   "metadata": {},
   "outputs": [],
   "source": []
  },
  {
   "cell_type": "markdown",
   "id": "352c0ae5",
   "metadata": {
    "jp-MarkdownHeadingCollapsed": true,
    "tags": []
   },
   "source": [
    "## 7 perform the following steps 3 times, 1 with the entire dataset, 1 with the selected features from step 5 and 1 with the selected features from step 6 \n",
    "\n",
    "## NOTE: FEATURE SELECTION IS USUALLY REQUIRED ONLY WHEN THERE ARE 100s TO 1000s OF FEATURES OR MORE, BUT HERE FOR EDUCATIONAL PURPOSES WE ARE PRACTICING FEATURE SELECTION ON A SMALLER DATASET"
   ]
  },
  {
   "cell_type": "markdown",
   "id": "a33054b9",
   "metadata": {},
   "source": [
    "## 8 Split into train and test"
   ]
  },
  {
   "cell_type": "code",
   "execution_count": null,
   "id": "bfac618c-b9cb-4cff-9837-01342957ddf8",
   "metadata": {},
   "outputs": [],
   "source": [
    "# bost is the data set with all features[ DATASET 1]\n",
    "\n",
    "print(\"For Dataset 1\")\n",
    "l1=len(bost.iloc[0])-1\n",
    "x_data = bost.iloc[:,:l1]  \n",
    "y_data = bost.iloc[:,l1:l1+1] \n",
    "print(y_data.columns[:])\n",
    "x_train,x_test,y_train,y_test= train_test_split(x_data,y_data, random_state = 100,test_size =0.2)x"
   ]
  },
  {
   "cell_type": "code",
   "execution_count": null,
   "id": "e1ce6363-e670-41fe-847c-0503e667f222",
   "metadata": {},
   "outputs": [],
   "source": [
    "## bost2 is the data set with selected features from Q5[ DATASET 2]\n",
    "print(\"For Dataset 2\")\n",
    "l2=len(bost2.iloc[0])-1\n",
    "x_data2 = bost2.iloc[:,:l2]  \n",
    "y_data2 = bost2.iloc[:,l2:l2+1] \n",
    "print(y_data2.columns[:])\n",
    "x_train2,x_test2,y_train2,y_test2= train_test_split(x_data2,y_data2, random_state = 100,test_size =0.2)\n"
   ]
  },
  {
   "cell_type": "code",
   "execution_count": null,
   "id": "8e8ec260-ec23-4bbf-b9f3-500e690881db",
   "metadata": {},
   "outputs": [],
   "source": [
    "## bost3 is the data set with selected features from Q5[ DATASET 3]\n",
    "print(\"For Dataset 3\")\n",
    "l3=len(bost3.iloc[0])-1\n",
    "x_data3 = bost3.iloc[:,:l3]  \n",
    "y_data3 = bost3.iloc[:,l3:l3+1] \n",
    "print(y_data3.columns[:])\n",
    "x_train3,x_test3,y_train3,y_test3= train_test_split(x_data3,y_data3, random_state = 100,test_size =0.2)"
   ]
  },
  {
   "cell_type": "code",
   "execution_count": null,
   "id": "88f9a8be-f360-4b85-b589-afa301807037",
   "metadata": {},
   "outputs": [],
   "source": []
  },
  {
   "cell_type": "code",
   "execution_count": null,
   "id": "cb8aaba5-914d-4c9a-bacb-535c0e85a54f",
   "metadata": {},
   "outputs": [],
   "source": []
  },
  {
   "cell_type": "markdown",
   "id": "701c9428",
   "metadata": {},
   "source": [
    "## 9 Normalize the data"
   ]
  },
  {
   "cell_type": "code",
   "execution_count": null,
   "id": "3a19066f-8045-49a7-ae98-9b5e26fdc314",
   "metadata": {},
   "outputs": [],
   "source": [
    "# min max scaling the variables\n",
    "sclr=MinMaxScaler()#Dataset 1\n",
    "sclr.fit(x_train)\n",
    "x_train_scld = sclr.transform(x_train)\n",
    "x_test_scld = sclr.transform(x_test)\n"
   ]
  },
  {
   "cell_type": "code",
   "execution_count": null,
   "id": "db625c82-3b6b-48ad-9f3c-81a20d5c2a83",
   "metadata": {},
   "outputs": [],
   "source": [
    "sclr2=MinMaxScaler()#Dataset 2\n",
    "sclr.fit(x_train2)\n",
    "x_train2_scld = sclr.transform(x_train2)\n",
    "x_test2_scld = sclr.transform(x_test2)"
   ]
  },
  {
   "cell_type": "code",
   "execution_count": null,
   "id": "d74ac311-bda9-40f8-9dd6-ac06bd16a8a5",
   "metadata": {},
   "outputs": [],
   "source": [
    "sclr3=MinMaxScaler()#Dataset 3\n",
    "sclr.fit(x_train3)\n",
    "x_train3_scld = sclr.transform(x_train3)\n",
    "x_test3_scld = sclr.transform(x_test3)"
   ]
  },
  {
   "cell_type": "markdown",
   "id": "36029be3",
   "metadata": {},
   "source": [
    "## 10 Train the model and perform hyper parameter tuning using cross validation"
   ]
  },
  {
   "cell_type": "code",
   "execution_count": null,
   "id": "bdbf7305-15e5-4d80-881d-86bbd662dd3b",
   "metadata": {},
   "outputs": [],
   "source": [
    "#Training and testing the model\n",
    "from sklearn.linear_model import LinearRegression\n",
    "from sklearn.metrics import mean_squared_error\n",
    "\n",
    "Regression_A=LinearRegression()# Dataset1\n",
    "Regression_A.fit(x_train,y_train)\n",
    "\n",
    "y_train_prediction=Regression_A.predict(x_train)\n",
    "y_test_prediction =Regression_A.predict(x_test_scld)\n",
    "rmse=(np.sqrt(mean_squared_error(y_train,y_train_prediction)))\n",
    "r2_var=round(Regression_A.score(x_train,y_train),2)\n",
    "coeff_of_deter=r2_score(y_test, y_test_prediction)\n"
   ]
  },
  {
   "cell_type": "code",
   "execution_count": null,
   "id": "c5bd365c-d8a8-45ee-b870-907730666bfe",
   "metadata": {},
   "outputs": [],
   "source": [
    "Regression_B=LinearRegression()# Dataset2\n",
    "Regression_B.fit(x_train2,y_train2)\n",
    "\n",
    "y_train2_prediction=Regression_B.predict(x_train2)\n",
    "y_test2_prediction =Regression_B.predict(x_test2_scld)\n",
    "rmse2=(np.sqrt(mean_squared_error(y_train2,y_train2_prediction)))\n",
    "r2_var2=round(Regression_B.score(x_train2,y_train2),2)\n",
    "coeff_of_deter2=r2_score(y_test2, y_test2_prediction)"
   ]
  },
  {
   "cell_type": "code",
   "execution_count": null,
   "id": "37dc7ee5-cb7b-4793-8576-9474eb2e1ee8",
   "metadata": {},
   "outputs": [],
   "source": [
    "Regression_C=LinearRegression()# Dataset3\n",
    "Regression_C.fit(x_train3,y_train3)\n",
    "\n",
    "y_train3_prediction=Regression_C.predict(x_train3)\n",
    "y_test3_prediction =Regression_C.predict(x_test3_scld)\n",
    "rmse3=(np.sqrt(mean_squared_error(y_train3,y_train3_prediction)))\n",
    "r2_var3=round(Regression_C.score(x_train3,y_train3),2)\n",
    "coeff_of_deter3=r2_score(y_test3, y_test3_prediction)\n"
   ]
  },
  {
   "cell_type": "markdown",
   "id": "233e8d32",
   "metadata": {},
   "source": [
    "## 11 Test the model on test set"
   ]
  },
  {
   "cell_type": "code",
   "execution_count": null,
   "id": "5b99e0e6-de0c-4082-b781-3918daadb287",
   "metadata": {},
   "outputs": [],
   "source": [
    "print(\" Peformance of model designed for trianing set of DataFrame 1\")\n",
    "print(f'RMSE value is {rmse}')\n",
    "print(f'R2 score value is {r2_var}')\n",
    "print('Coefficient of determination for testing set: %.2f'%coeff_of_deter)"
   ]
  },
  {
   "cell_type": "code",
   "execution_count": null,
   "id": "fe7ff270-7b33-4536-97f9-df54fa51c210",
   "metadata": {},
   "outputs": [],
   "source": [
    "print(\"  Peformance of model designed for trianing set of DataFrame 2\")\n",
    "print(f'RMSE value is {rmse2}')\n",
    "print(f'R2 score value is {r2_var2}')\n",
    "print('Coefficient of determination for testing set: %.2f'%coeff_of_deter2)"
   ]
  },
  {
   "cell_type": "code",
   "execution_count": null,
   "id": "476c2cc1-7d20-41d5-ba35-016507380c16",
   "metadata": {},
   "outputs": [],
   "source": [
    "print(\"  Peformance of model designed for trianing set of DataFrame 3\")\n",
    "print(f'RMSE value is {rmse3}')\n",
    "print(f'R2 score value is {r2_var3}')\n",
    "print('Coefficient of determination for testing set: %.2f'%coeff_of_deter3)"
   ]
  },
  {
   "cell_type": "code",
   "execution_count": null,
   "id": "c5cdea8b-0a4b-4651-a0f2-f7dc7ee1a0f7",
   "metadata": {},
   "outputs": [],
   "source": []
  }
 ],
 "metadata": {
  "kernelspec": {
   "display_name": "Python 3 (ipykernel)",
   "language": "python",
   "name": "python3"
  },
  "language_info": {
   "codemirror_mode": {
    "name": "ipython",
    "version": 3
   },
   "file_extension": ".py",
   "mimetype": "text/x-python",
   "name": "python",
   "nbconvert_exporter": "python",
   "pygments_lexer": "ipython3",
   "version": "3.9.7"
  }
 },
 "nbformat": 4,
 "nbformat_minor": 5
}
